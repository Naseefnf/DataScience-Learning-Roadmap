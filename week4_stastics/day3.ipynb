{
 "cells": [
  {
   "cell_type": "markdown",
   "id": "2711645b",
   "metadata": {},
   "source": [
    "## Day 3: Population & Sampling"
   ]
  },
  {
   "cell_type": "markdown",
   "id": "4145ab4f",
   "metadata": {},
   "source": [
    "#### 1. Population vs. Sample"
   ]
  },
  {
   "cell_type": "markdown",
   "id": "96da72fa",
   "metadata": {},
   "source": [
    "##### Population:\n",
    "        The entire group of individuals or items you want to study.\n",
    "\n",
    "##### Sample:\n",
    "        A subset of the population, selected for actual analysis. We use samples to make inferences about populations.\n",
    "\n",
    "##### Example:\n",
    "\n",
    "        If you're interested in the average height of all students at a university (the population), but you only measure 100 students (the sample), you’ll use the sample to estimate the characteristics of the whole group."
   ]
  },
  {
   "cell_type": "markdown",
   "id": "caee5231",
   "metadata": {},
   "source": [
    "#### 2. Sampling Methods\n"
   ]
  },
  {
   "cell_type": "markdown",
   "id": "e6705386",
   "metadata": {},
   "source": [
    "##### a. Simple Random Sampling\n",
    "- Definition: Every member of the population has an equal chance of being selected.\n",
    "\n",
    "##### Example:\n",
    "\n"
   ]
  },
  {
   "cell_type": "code",
   "execution_count": null,
   "id": "533ec74f",
   "metadata": {},
   "outputs": [],
   "source": [
    "import numpy as np\n",
    "students = np.arange(1, 1001)  # Student IDs 1 to 1000\n",
    "np.random.seed(42)\n",
    "sample = np.random.choice(students, size=100, replace=False)\n",
    "print(\"Sampled student IDs:\", sample[:10])\n"
   ]
  },
  {
   "cell_type": "markdown",
   "id": "b5cce3bc",
   "metadata": {},
   "source": [
    "##### b. Stratified Sampling\n",
    "- Definition: The population is divided into subgroups (strata) and random samples are taken from each stratum. This ensures representation of each stratum.\n",
    "\n",
    "##### Example:\n",
    "\n"
   ]
  },
  {
   "cell_type": "code",
   "execution_count": 2,
   "id": "80a11e30",
   "metadata": {},
   "outputs": [
    {
     "name": "stdout",
     "output_type": "stream",
     "text": [
      "      id gender\n",
      "337  338      M\n",
      "552  553      M\n",
      "972  973      M\n",
      "139  140      M\n",
      "607  608      M\n"
     ]
    }
   ],
   "source": [
    "import pandas as pd\n",
    "import numpy as np\n",
    "# Suppose we have 1000 students with gender labels (M/F)\n",
    "students = pd.DataFrame({\n",
    "    'id': np.arange(1, 1001),\n",
    "    'gender': np.random.choice(['M','F'], size=1000)\n",
    "})\n",
    "# Take 10 males and 10 females\n",
    "male_sample = students[students['gender'] == 'M'].sample(10, random_state=42)\n",
    "female_sample = students[students['gender'] == 'F'].sample(10, random_state=42)\n",
    "stratified_sample = pd.concat([male_sample, female_sample])\n",
    "print(stratified_sample.head())\n"
   ]
  },
  {
   "cell_type": "markdown",
   "id": "4eac8eef",
   "metadata": {},
   "source": [
    "##### c. Cluster Sampling\n",
    "- Definition: The population is divided into clusters (often based on geography or another natural grouping), a few clusters are randomly selected, and all members of those clusters are included.\n",
    "\n",
    "##### Example:"
   ]
  },
  {
   "cell_type": "code",
   "execution_count": 3,
   "id": "9339ef05",
   "metadata": {},
   "outputs": [
    {
     "name": "stdout",
     "output_type": "stream",
     "text": [
      "Selected dorms: ['Dorm_F' 'Dorm_D']\n",
      "    id gender    dorm\n",
      "5    6      M  Dorm_F\n",
      "7    8      F  Dorm_D\n",
      "16  17      F  Dorm_F\n",
      "19  20      M  Dorm_F\n",
      "20  21      M  Dorm_D\n"
     ]
    }
   ],
   "source": [
    "# Suppose students are grouped in 10 dorms\n",
    "students['dorm'] = np.random.choice(['Dorm_A','Dorm_B','Dorm_C','Dorm_D','Dorm_E','Dorm_F','Dorm_G','Dorm_H','Dorm_I','Dorm_J'], size=1000)\n",
    "# Randomly pick 2 dorms\n",
    "selected_dorms = np.random.choice(students['dorm'].unique(), size=2, replace=False)\n",
    "cluster_sample = students[students['dorm'].isin(selected_dorms)]\n",
    "print('Selected dorms:', selected_dorms)\n",
    "print(cluster_sample.head())\n"
   ]
  },
  {
   "cell_type": "markdown",
   "id": "1878391a",
   "metadata": {},
   "source": []
  }
 ],
 "metadata": {
  "kernelspec": {
   "display_name": "venv",
   "language": "python",
   "name": "python3"
  },
  "language_info": {
   "codemirror_mode": {
    "name": "ipython",
    "version": 3
   },
   "file_extension": ".py",
   "mimetype": "text/x-python",
   "name": "python",
   "nbconvert_exporter": "python",
   "pygments_lexer": "ipython3",
   "version": "3.13.5"
  }
 },
 "nbformat": 4,
 "nbformat_minor": 5
}
