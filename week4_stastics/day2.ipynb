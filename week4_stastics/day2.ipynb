{
 "cells": [
  {
   "cell_type": "markdown",
   "id": "f13f8d7e",
   "metadata": {},
   "source": [
    "## Day 2: Data & Measurement Scales"
   ]
  },
  {
   "cell_type": "markdown",
   "id": "26bca998",
   "metadata": {},
   "source": [
    "##### Data Types: Qualitative vs. Quantitative"
   ]
  },
  {
   "cell_type": "markdown",
   "id": "4f69baf7",
   "metadata": {},
   "source": [
    "| Type | Definition | Examples |\n",
    "|-----------------|-----------------|-----------------|\n",
    "| Qualitative/Categorical    | \tDescribes qualities, categories, or labels    | Colors, gender, letter grades     |\n",
    "| Quantitative/Numerical     | Based on numbers or measurable quantities     | Height, weight, age     |\n",
    "\n"
   ]
  },
  {
   "cell_type": "markdown",
   "id": "fee6a4c4",
   "metadata": {},
   "source": [
    "- Qualitative data is grouped by name or label.\n",
    "\n",
    "- Quantitative data is measured numerically."
   ]
  },
  {
   "cell_type": "markdown",
   "id": "507427b7",
   "metadata": {},
   "source": [
    "\n",
    "##### Scales of Measurement\n",
    "1. Nominal:\n",
    "\n",
    "    - Labels or names only\n",
    "\n",
    "    - Example: Types of fruits (apple, orange, banana)\n",
    "\n",
    "2. Ordinal:\n",
    "\n",
    "    - Ordered categories, but differences between values aren’t meaningful\n",
    "\n",
    "    - Example: Survey rankings (happy, neutral, sad)\n",
    "\n",
    "3. Interval:\n",
    "\n",
    "    - Order matters, differences are meaningful, but no true zero\n",
    "\n",
    "    - Example: Temperature in Celsius (20°C, 30°C)\n",
    "\n",
    "4. Ratio:\n",
    "\n",
    "    - Like interval, plus a true zero exists\n",
    "\n",
    "    - Example: Height (0 cm means no height)\n",
    "\n"
   ]
  },
  {
   "cell_type": "markdown",
   "id": "61ef6990",
   "metadata": {},
   "source": [
    "| **Scale**   | **Can Be Sorted?** | **Differences Meaningful?** | **True Zero?** | **Example**             |\n",
    "|-------------|--------------------|-----------------------------|----------------|-------------------------|\n",
    "| Nominal     | No                 | No                          | No             | Eye color               |\n",
    "| Ordinal     | Yes                | No                          | No             | Movie ratings (1–5 stars) |\n",
    "| Interval    | Yes                | Yes                         | No             | Calendar years          |\n",
    "| Ratio       | Yes                | Yes                         | Yes            | Salary                  |\n"
   ]
  },
  {
   "cell_type": "markdown",
   "id": "083f085b",
   "metadata": {},
   "source": [
    "##### Quick Review:\n",
    "\n",
    "- Nominal: Just labels\n",
    "\n",
    "- Ordinal: Labels with order\n",
    "\n",
    "- Interval: Numbers with meaningful differences, no true zero\n",
    "\n",
    "- Ratio: Numbers with order, meaningful differences, and absolute zero"
   ]
  },
  {
   "cell_type": "markdown",
   "id": "467bf729",
   "metadata": {},
   "source": []
  }
 ],
 "metadata": {
  "language_info": {
   "name": "python"
  }
 },
 "nbformat": 4,
 "nbformat_minor": 5
}
