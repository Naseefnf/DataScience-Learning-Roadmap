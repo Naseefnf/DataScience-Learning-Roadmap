{
 "cells": [
  {
   "cell_type": "markdown",
   "id": "3946f948-0257-41d5-bd4e-cc46f6256772",
   "metadata": {},
   "source": [
    "## Day 6: Hypothesis Testing\n",
    "Let’s review the foundation of hypothesis testing so you can interpret results and make data-driven decisions."
   ]
  },
  {
   "cell_type": "markdown",
   "id": "3ce1918e-02de-4b6a-83d4-bcab7d889ce4",
   "metadata": {},
   "source": [
    "### 1. Null & Alternative Hypotheses\n",
    "#### Null Hypothesis H0\n",
    "    The default claim: typically, no effect, no difference, or the status quo.\n",
    "#### Alternative Hypothesis H1 \n",
    "    Contrasts H0, claiming there is an effect or a difference.\n",
    "##### Example:\n",
    "- H0: The mean exam score of two classes is the same.\n",
    "- H1: The mean exam score is different between classes.\n"
   ]
  },
  {
   "cell_type": "markdown",
   "id": "f9f858a2-0c87-4347-ab69-816a9bc8d499",
   "metadata": {},
   "source": [
    "### 2. p-value & Significance Level\n",
    "##### p-value\n",
    "    The probability of observing data at least as extreme as your sample, assuming H0 is true.\n",
    "\n",
    "##### Significance Level α\n",
    "A threshold (commonly 0.05) for how much evidence you require to reject H0. If p value < α, you reject H0.\n",
    " ."
   ]
  },
  {
   "cell_type": "code",
   "execution_count": 3,
   "id": "1b5d7a38-e349-43cb-a840-731861df51f4",
   "metadata": {},
   "outputs": [
    {
     "name": "stdout",
     "output_type": "stream",
     "text": [
      "p-value: 0.28302029650333277\n"
     ]
    }
   ],
   "source": [
    "from scipy import stats\n",
    "sample_a = [82, 79, 90, 75, 88]\n",
    "sample_b = [85, 87, 92, 80, 90]\n",
    "t_stat, p_value = stats.ttest_ind(sample_a, sample_b)\n",
    "print(\"p-value:\", p_value)\n"
   ]
  },
  {
   "cell_type": "markdown",
   "id": "86794952-5948-43fb-8480-90b972d3e286",
   "metadata": {},
   "source": [
    "### 3. Type I and Type II Errors\n",
    "\n",
    "- Type I Error: Rejecting H0 when it is actually true (\"false positive\").\n",
    "\n",
    "- Type II Error: Not rejecting H0  when it is actually false (\"false negative\").\n",
    "\n",
    "|               | H₀ True               | H₀ False              |\n",
    "|----------------|-----------------------|-----------------------|\n",
    "| Reject H₀      | Type I Error          | Correct Decision      |\n",
    "| Do Not Reject H₀ | Correct Decision     | Type II Error         |\n"
   ]
  },
  {
   "cell_type": "code",
   "execution_count": null,
   "id": "32632ade-a28b-4efb-aa87-6341d8f3b815",
   "metadata": {},
   "outputs": [],
   "source": []
  }
 ],
 "metadata": {
  "kernelspec": {
   "display_name": "Python 3 (ipykernel)",
   "language": "python",
   "name": "python3"
  },
  "language_info": {
   "codemirror_mode": {
    "name": "ipython",
    "version": 3
   },
   "file_extension": ".py",
   "mimetype": "text/x-python",
   "name": "python",
   "nbconvert_exporter": "python",
   "pygments_lexer": "ipython3",
   "version": "3.13.5"
  }
 },
 "nbformat": 4,
 "nbformat_minor": 5
}
