{
 "cells": [
  {
   "cell_type": "markdown",
   "id": "9050ab83",
   "metadata": {},
   "source": [
    "## Day 1: Introduction to Statistics"
   ]
  },
  {
   "cell_type": "markdown",
   "id": "00b9b820",
   "metadata": {},
   "source": [
    "##### What is Statistics?"
   ]
  },
  {
   "cell_type": "markdown",
   "id": "69a6fbbf",
   "metadata": {},
   "source": [
    "Statistics is the science of collecting, analyzing, interpreting, and presenting data. It helps us make sense of large amounts of information by summarizing and drawing conclusions from it.\n",
    "\n",
    "- Statistics is used in virtually every field—science, business, health, and daily life—to understand patterns and make informed decisions."
   ]
  },
  {
   "cell_type": "markdown",
   "id": "821f10be",
   "metadata": {},
   "source": [
    "##### Example"
   ]
  },
  {
   "cell_type": "markdown",
   "id": "6ff9f36f",
   "metadata": {},
   "source": [
    "If you survey your classmates about favorite subjects, statistics helps you summarize the results and look for trends."
   ]
  },
  {
   "cell_type": "markdown",
   "id": "0de3a3ef",
   "metadata": {},
   "source": [
    "##### Descriptive vs. Inferential Statistics"
   ]
  },
  {
   "cell_type": "markdown",
   "id": "b691fccf",
   "metadata": {},
   "source": [
    "| Type | Description | Example |\n",
    "|-----------------|-----------------|-----------------|\n",
    "|Descriptive    | \tSummarizes or describes features of a dataset    | Mean, median, mode, range, graphs     |\n",
    "| Inferential     | Makes predictions or generalizations about a population based on a sample     | Estimating average height of all students from a small group     |\n",
    "\n"
   ]
  },
  {
   "cell_type": "markdown",
   "id": "9f47afcd",
   "metadata": {},
   "source": [
    "- Descriptive statistics: Answers, \"What does my data show?\"\n",
    "\n",
    "- Inferential statistics: Answers, \"What can I predict or infer about a larger group from my data?"
   ]
  },
  {
   "cell_type": "markdown",
   "id": "f785557b",
   "metadata": {},
   "source": []
  }
 ],
 "metadata": {
  "language_info": {
   "name": "python"
  }
 },
 "nbformat": 4,
 "nbformat_minor": 5
}
