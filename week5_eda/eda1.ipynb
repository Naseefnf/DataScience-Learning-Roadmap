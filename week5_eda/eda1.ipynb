{
 "cells": [
  {
   "cell_type": "markdown",
   "id": "b07796d2-78d7-4142-a57a-6d21ccca1ac6",
   "metadata": {},
   "source": [
    "# 📅 Day 1: Identifying Missing Values"
   ]
  },
  {
   "cell_type": "markdown",
   "id": "99d525ac-8e68-47d6-9c5d-b0e2cf32d7f8",
   "metadata": {},
   "source": [
    "**Why is it important to identify missing values before analysis?**  \n",
    "&nbsp;&nbsp;Identifying missing values before analysis is important because they can *distort results, reduce data accuracy, and lead to incorrect conclusions*. Detecting them early helps you decide how to handle or fill them for more reliable analysis.\n",
    "\n"
   ]
  },
  {
   "cell_type": "code",
   "execution_count": 1,
   "id": "dcaf8c00-d7c7-4440-af54-4dd0c9744647",
   "metadata": {},
   "outputs": [],
   "source": [
    "import numpy as np\n",
    "import pandas as pd\n",
    "import seaborn as sns\n",
    "import matplotlib.pyplot as plt\n",
    "%matplotlib inline"
   ]
  },
  {
   "cell_type": "code",
   "execution_count": 2,
   "id": "88374c42-471a-4f22-8867-cefffe838769",
   "metadata": {},
   "outputs": [
    {
     "data": {
      "text/html": [
       "<div>\n",
       "<style scoped>\n",
       "    .dataframe tbody tr th:only-of-type {\n",
       "        vertical-align: middle;\n",
       "    }\n",
       "\n",
       "    .dataframe tbody tr th {\n",
       "        vertical-align: top;\n",
       "    }\n",
       "\n",
       "    .dataframe thead th {\n",
       "        text-align: right;\n",
       "    }\n",
       "</style>\n",
       "<table border=\"1\" class=\"dataframe\">\n",
       "  <thead>\n",
       "    <tr style=\"text-align: right;\">\n",
       "      <th></th>\n",
       "      <th>Order</th>\n",
       "      <th>PID</th>\n",
       "      <th>MS SubClass</th>\n",
       "      <th>MS Zoning</th>\n",
       "      <th>Lot Frontage</th>\n",
       "      <th>Lot Area</th>\n",
       "      <th>Street</th>\n",
       "      <th>Alley</th>\n",
       "      <th>Lot Shape</th>\n",
       "      <th>Land Contour</th>\n",
       "      <th>...</th>\n",
       "      <th>Pool Area</th>\n",
       "      <th>Pool QC</th>\n",
       "      <th>Fence</th>\n",
       "      <th>Misc Feature</th>\n",
       "      <th>Misc Val</th>\n",
       "      <th>Mo Sold</th>\n",
       "      <th>Yr Sold</th>\n",
       "      <th>Sale Type</th>\n",
       "      <th>Sale Condition</th>\n",
       "      <th>SalePrice</th>\n",
       "    </tr>\n",
       "  </thead>\n",
       "  <tbody>\n",
       "    <tr>\n",
       "      <th>0</th>\n",
       "      <td>1</td>\n",
       "      <td>526301100</td>\n",
       "      <td>20</td>\n",
       "      <td>RL</td>\n",
       "      <td>141.0</td>\n",
       "      <td>31770</td>\n",
       "      <td>Pave</td>\n",
       "      <td>NaN</td>\n",
       "      <td>IR1</td>\n",
       "      <td>Lvl</td>\n",
       "      <td>...</td>\n",
       "      <td>0</td>\n",
       "      <td>NaN</td>\n",
       "      <td>NaN</td>\n",
       "      <td>NaN</td>\n",
       "      <td>0</td>\n",
       "      <td>5</td>\n",
       "      <td>2010</td>\n",
       "      <td>WD</td>\n",
       "      <td>Normal</td>\n",
       "      <td>215000</td>\n",
       "    </tr>\n",
       "    <tr>\n",
       "      <th>1</th>\n",
       "      <td>2</td>\n",
       "      <td>526350040</td>\n",
       "      <td>20</td>\n",
       "      <td>RH</td>\n",
       "      <td>80.0</td>\n",
       "      <td>11622</td>\n",
       "      <td>Pave</td>\n",
       "      <td>NaN</td>\n",
       "      <td>Reg</td>\n",
       "      <td>Lvl</td>\n",
       "      <td>...</td>\n",
       "      <td>0</td>\n",
       "      <td>NaN</td>\n",
       "      <td>MnPrv</td>\n",
       "      <td>NaN</td>\n",
       "      <td>0</td>\n",
       "      <td>6</td>\n",
       "      <td>2010</td>\n",
       "      <td>WD</td>\n",
       "      <td>Normal</td>\n",
       "      <td>105000</td>\n",
       "    </tr>\n",
       "    <tr>\n",
       "      <th>2</th>\n",
       "      <td>3</td>\n",
       "      <td>526351010</td>\n",
       "      <td>20</td>\n",
       "      <td>RL</td>\n",
       "      <td>81.0</td>\n",
       "      <td>14267</td>\n",
       "      <td>Pave</td>\n",
       "      <td>NaN</td>\n",
       "      <td>IR1</td>\n",
       "      <td>Lvl</td>\n",
       "      <td>...</td>\n",
       "      <td>0</td>\n",
       "      <td>NaN</td>\n",
       "      <td>NaN</td>\n",
       "      <td>Gar2</td>\n",
       "      <td>12500</td>\n",
       "      <td>6</td>\n",
       "      <td>2010</td>\n",
       "      <td>WD</td>\n",
       "      <td>Normal</td>\n",
       "      <td>172000</td>\n",
       "    </tr>\n",
       "    <tr>\n",
       "      <th>3</th>\n",
       "      <td>4</td>\n",
       "      <td>526353030</td>\n",
       "      <td>20</td>\n",
       "      <td>RL</td>\n",
       "      <td>93.0</td>\n",
       "      <td>11160</td>\n",
       "      <td>Pave</td>\n",
       "      <td>NaN</td>\n",
       "      <td>Reg</td>\n",
       "      <td>Lvl</td>\n",
       "      <td>...</td>\n",
       "      <td>0</td>\n",
       "      <td>NaN</td>\n",
       "      <td>NaN</td>\n",
       "      <td>NaN</td>\n",
       "      <td>0</td>\n",
       "      <td>4</td>\n",
       "      <td>2010</td>\n",
       "      <td>WD</td>\n",
       "      <td>Normal</td>\n",
       "      <td>244000</td>\n",
       "    </tr>\n",
       "    <tr>\n",
       "      <th>4</th>\n",
       "      <td>5</td>\n",
       "      <td>527105010</td>\n",
       "      <td>60</td>\n",
       "      <td>RL</td>\n",
       "      <td>74.0</td>\n",
       "      <td>13830</td>\n",
       "      <td>Pave</td>\n",
       "      <td>NaN</td>\n",
       "      <td>IR1</td>\n",
       "      <td>Lvl</td>\n",
       "      <td>...</td>\n",
       "      <td>0</td>\n",
       "      <td>NaN</td>\n",
       "      <td>MnPrv</td>\n",
       "      <td>NaN</td>\n",
       "      <td>0</td>\n",
       "      <td>3</td>\n",
       "      <td>2010</td>\n",
       "      <td>WD</td>\n",
       "      <td>Normal</td>\n",
       "      <td>189900</td>\n",
       "    </tr>\n",
       "  </tbody>\n",
       "</table>\n",
       "<p>5 rows × 82 columns</p>\n",
       "</div>"
      ],
      "text/plain": [
       "   Order        PID  MS SubClass MS Zoning  Lot Frontage  Lot Area Street  \\\n",
       "0      1  526301100           20        RL         141.0     31770   Pave   \n",
       "1      2  526350040           20        RH          80.0     11622   Pave   \n",
       "2      3  526351010           20        RL          81.0     14267   Pave   \n",
       "3      4  526353030           20        RL          93.0     11160   Pave   \n",
       "4      5  527105010           60        RL          74.0     13830   Pave   \n",
       "\n",
       "  Alley Lot Shape Land Contour  ... Pool Area Pool QC  Fence Misc Feature  \\\n",
       "0   NaN       IR1          Lvl  ...         0     NaN    NaN          NaN   \n",
       "1   NaN       Reg          Lvl  ...         0     NaN  MnPrv          NaN   \n",
       "2   NaN       IR1          Lvl  ...         0     NaN    NaN         Gar2   \n",
       "3   NaN       Reg          Lvl  ...         0     NaN    NaN          NaN   \n",
       "4   NaN       IR1          Lvl  ...         0     NaN  MnPrv          NaN   \n",
       "\n",
       "  Misc Val Mo Sold Yr Sold Sale Type  Sale Condition  SalePrice  \n",
       "0        0       5    2010       WD           Normal     215000  \n",
       "1        0       6    2010       WD           Normal     105000  \n",
       "2    12500       6    2010       WD           Normal     172000  \n",
       "3        0       4    2010       WD           Normal     244000  \n",
       "4        0       3    2010       WD           Normal     189900  \n",
       "\n",
       "[5 rows x 82 columns]"
      ]
     },
     "execution_count": 2,
     "metadata": {},
     "output_type": "execute_result"
    }
   ],
   "source": [
    "\n",
    "data = pd.read_csv('AmesHousing.csv')\n",
    "data.head()"
   ]
  },
  {
   "cell_type": "code",
   "execution_count": 157,
   "id": "097b3883-94a4-4111-b4e5-33cc8d27a135",
   "metadata": {},
   "outputs": [
    {
     "data": {
      "text/plain": [
       "(2930, 82)"
      ]
     },
     "execution_count": 157,
     "metadata": {},
     "output_type": "execute_result"
    }
   ],
   "source": [
    "data.shape"
   ]
  },
  {
   "cell_type": "code",
   "execution_count": 158,
   "id": "08a87c44-fac0-4cce-ab9f-ceddf887a507",
   "metadata": {},
   "outputs": [
    {
     "name": "stdout",
     "output_type": "stream",
     "text": [
      "<class 'pandas.core.frame.DataFrame'>\n",
      "RangeIndex: 2930 entries, 0 to 2929\n",
      "Data columns (total 82 columns):\n",
      " #   Column           Non-Null Count  Dtype  \n",
      "---  ------           --------------  -----  \n",
      " 0   Order            2930 non-null   int64  \n",
      " 1   PID              2930 non-null   int64  \n",
      " 2   MS SubClass      2930 non-null   int64  \n",
      " 3   MS Zoning        2930 non-null   object \n",
      " 4   Lot Frontage     2440 non-null   float64\n",
      " 5   Lot Area         2930 non-null   int64  \n",
      " 6   Street           2930 non-null   object \n",
      " 7   Alley            198 non-null    object \n",
      " 8   Lot Shape        2930 non-null   object \n",
      " 9   Land Contour     2930 non-null   object \n",
      " 10  Utilities        2930 non-null   object \n",
      " 11  Lot Config       2930 non-null   object \n",
      " 12  Land Slope       2930 non-null   object \n",
      " 13  Neighborhood     2930 non-null   object \n",
      " 14  Condition 1      2930 non-null   object \n",
      " 15  Condition 2      2930 non-null   object \n",
      " 16  Bldg Type        2930 non-null   object \n",
      " 17  House Style      2930 non-null   object \n",
      " 18  Overall Qual     2930 non-null   int64  \n",
      " 19  Overall Cond     2930 non-null   int64  \n",
      " 20  Year Built       2930 non-null   int64  \n",
      " 21  Year Remod/Add   2930 non-null   int64  \n",
      " 22  Roof Style       2930 non-null   object \n",
      " 23  Roof Matl        2930 non-null   object \n",
      " 24  Exterior 1st     2930 non-null   object \n",
      " 25  Exterior 2nd     2930 non-null   object \n",
      " 26  Mas Vnr Type     1155 non-null   object \n",
      " 27  Mas Vnr Area     2907 non-null   float64\n",
      " 28  Exter Qual       2930 non-null   object \n",
      " 29  Exter Cond       2930 non-null   object \n",
      " 30  Foundation       2930 non-null   object \n",
      " 31  Bsmt Qual        2850 non-null   object \n",
      " 32  Bsmt Cond        2850 non-null   object \n",
      " 33  Bsmt Exposure    2847 non-null   object \n",
      " 34  BsmtFin Type 1   2850 non-null   object \n",
      " 35  BsmtFin SF 1     2929 non-null   float64\n",
      " 36  BsmtFin Type 2   2849 non-null   object \n",
      " 37  BsmtFin SF 2     2929 non-null   float64\n",
      " 38  Bsmt Unf SF      2929 non-null   float64\n",
      " 39  Total Bsmt SF    2929 non-null   float64\n",
      " 40  Heating          2930 non-null   object \n",
      " 41  Heating QC       2930 non-null   object \n",
      " 42  Central Air      2930 non-null   object \n",
      " 43  Electrical       2929 non-null   object \n",
      " 44  1st Flr SF       2930 non-null   int64  \n",
      " 45  2nd Flr SF       2930 non-null   int64  \n",
      " 46  Low Qual Fin SF  2930 non-null   int64  \n",
      " 47  Gr Liv Area      2930 non-null   int64  \n",
      " 48  Bsmt Full Bath   2928 non-null   float64\n",
      " 49  Bsmt Half Bath   2928 non-null   float64\n",
      " 50  Full Bath        2930 non-null   int64  \n",
      " 51  Half Bath        2930 non-null   int64  \n",
      " 52  Bedroom AbvGr    2930 non-null   int64  \n",
      " 53  Kitchen AbvGr    2930 non-null   int64  \n",
      " 54  Kitchen Qual     2930 non-null   object \n",
      " 55  TotRms AbvGrd    2930 non-null   int64  \n",
      " 56  Functional       2930 non-null   object \n",
      " 57  Fireplaces       2930 non-null   int64  \n",
      " 58  Fireplace Qu     1508 non-null   object \n",
      " 59  Garage Type      2773 non-null   object \n",
      " 60  Garage Yr Blt    2771 non-null   float64\n",
      " 61  Garage Finish    2771 non-null   object \n",
      " 62  Garage Cars      2929 non-null   float64\n",
      " 63  Garage Area      2929 non-null   float64\n",
      " 64  Garage Qual      2771 non-null   object \n",
      " 65  Garage Cond      2771 non-null   object \n",
      " 66  Paved Drive      2930 non-null   object \n",
      " 67  Wood Deck SF     2930 non-null   int64  \n",
      " 68  Open Porch SF    2930 non-null   int64  \n",
      " 69  Enclosed Porch   2930 non-null   int64  \n",
      " 70  3Ssn Porch       2930 non-null   int64  \n",
      " 71  Screen Porch     2930 non-null   int64  \n",
      " 72  Pool Area        2930 non-null   int64  \n",
      " 73  Pool QC          13 non-null     object \n",
      " 74  Fence            572 non-null    object \n",
      " 75  Misc Feature     106 non-null    object \n",
      " 76  Misc Val         2930 non-null   int64  \n",
      " 77  Mo Sold          2930 non-null   int64  \n",
      " 78  Yr Sold          2930 non-null   int64  \n",
      " 79  Sale Type        2930 non-null   object \n",
      " 80  Sale Condition   2930 non-null   object \n",
      " 81  SalePrice        2930 non-null   int64  \n",
      "dtypes: float64(11), int64(28), object(43)\n",
      "memory usage: 1.8+ MB\n"
     ]
    }
   ],
   "source": [
    "data.info()"
   ]
  },
  {
   "cell_type": "code",
   "execution_count": 4,
   "id": "abf9a62b-32d3-4bf5-9608-a5e60a63f84d",
   "metadata": {},
   "outputs": [
    {
     "data": {
      "text/html": [
       "<div>\n",
       "<style scoped>\n",
       "    .dataframe tbody tr th:only-of-type {\n",
       "        vertical-align: middle;\n",
       "    }\n",
       "\n",
       "    .dataframe tbody tr th {\n",
       "        vertical-align: top;\n",
       "    }\n",
       "\n",
       "    .dataframe thead th {\n",
       "        text-align: right;\n",
       "    }\n",
       "</style>\n",
       "<table border=\"1\" class=\"dataframe\">\n",
       "  <thead>\n",
       "    <tr style=\"text-align: right;\">\n",
       "      <th></th>\n",
       "      <th>Order</th>\n",
       "      <th>PID</th>\n",
       "      <th>MS SubClass</th>\n",
       "      <th>MS Zoning</th>\n",
       "      <th>Lot Frontage</th>\n",
       "      <th>Lot Area</th>\n",
       "      <th>Street</th>\n",
       "      <th>Alley</th>\n",
       "      <th>Lot Shape</th>\n",
       "      <th>SalePrice</th>\n",
       "    </tr>\n",
       "  </thead>\n",
       "  <tbody>\n",
       "    <tr>\n",
       "      <th>0</th>\n",
       "      <td>1</td>\n",
       "      <td>526301100</td>\n",
       "      <td>20</td>\n",
       "      <td>RL</td>\n",
       "      <td>141.0</td>\n",
       "      <td>31770</td>\n",
       "      <td>Pave</td>\n",
       "      <td>NaN</td>\n",
       "      <td>IR1</td>\n",
       "      <td>215000</td>\n",
       "    </tr>\n",
       "    <tr>\n",
       "      <th>1</th>\n",
       "      <td>2</td>\n",
       "      <td>526350040</td>\n",
       "      <td>20</td>\n",
       "      <td>RH</td>\n",
       "      <td>80.0</td>\n",
       "      <td>11622</td>\n",
       "      <td>Pave</td>\n",
       "      <td>NaN</td>\n",
       "      <td>Reg</td>\n",
       "      <td>105000</td>\n",
       "    </tr>\n",
       "    <tr>\n",
       "      <th>2</th>\n",
       "      <td>3</td>\n",
       "      <td>526351010</td>\n",
       "      <td>20</td>\n",
       "      <td>RL</td>\n",
       "      <td>81.0</td>\n",
       "      <td>14267</td>\n",
       "      <td>Pave</td>\n",
       "      <td>NaN</td>\n",
       "      <td>IR1</td>\n",
       "      <td>172000</td>\n",
       "    </tr>\n",
       "    <tr>\n",
       "      <th>3</th>\n",
       "      <td>4</td>\n",
       "      <td>526353030</td>\n",
       "      <td>20</td>\n",
       "      <td>RL</td>\n",
       "      <td>93.0</td>\n",
       "      <td>11160</td>\n",
       "      <td>Pave</td>\n",
       "      <td>NaN</td>\n",
       "      <td>Reg</td>\n",
       "      <td>244000</td>\n",
       "    </tr>\n",
       "    <tr>\n",
       "      <th>4</th>\n",
       "      <td>5</td>\n",
       "      <td>527105010</td>\n",
       "      <td>60</td>\n",
       "      <td>RL</td>\n",
       "      <td>74.0</td>\n",
       "      <td>13830</td>\n",
       "      <td>Pave</td>\n",
       "      <td>NaN</td>\n",
       "      <td>IR1</td>\n",
       "      <td>189900</td>\n",
       "    </tr>\n",
       "  </tbody>\n",
       "</table>\n",
       "</div>"
      ],
      "text/plain": [
       "   Order        PID  MS SubClass MS Zoning  Lot Frontage  Lot Area Street  \\\n",
       "0      1  526301100           20        RL         141.0     31770   Pave   \n",
       "1      2  526350040           20        RH          80.0     11622   Pave   \n",
       "2      3  526351010           20        RL          81.0     14267   Pave   \n",
       "3      4  526353030           20        RL          93.0     11160   Pave   \n",
       "4      5  527105010           60        RL          74.0     13830   Pave   \n",
       "\n",
       "  Alley Lot Shape  SalePrice  \n",
       "0   NaN       IR1     215000  \n",
       "1   NaN       Reg     105000  \n",
       "2   NaN       IR1     172000  \n",
       "3   NaN       Reg     244000  \n",
       "4   NaN       IR1     189900  "
      ]
     },
     "execution_count": 4,
     "metadata": {},
     "output_type": "execute_result"
    }
   ],
   "source": [
    "# Removing lots of feature to learn EDA\n",
    "df = data.iloc[:, list(range(9)) + [-1]]\n",
    "df.head()"
   ]
  },
  {
   "cell_type": "code",
   "execution_count": 5,
   "id": "412a686a-7c47-48f9-95a6-ae43c0223243",
   "metadata": {},
   "outputs": [
    {
     "data": {
      "text/plain": [
       "(2930, 10)"
      ]
     },
     "execution_count": 5,
     "metadata": {},
     "output_type": "execute_result"
    }
   ],
   "source": [
    "df.shape"
   ]
  },
  {
   "cell_type": "code",
   "execution_count": 6,
   "id": "b706d250-bc63-4267-ba49-0ac0811d9413",
   "metadata": {},
   "outputs": [
    {
     "name": "stdout",
     "output_type": "stream",
     "text": [
      "<class 'pandas.core.frame.DataFrame'>\n",
      "RangeIndex: 2930 entries, 0 to 2929\n",
      "Data columns (total 10 columns):\n",
      " #   Column        Non-Null Count  Dtype  \n",
      "---  ------        --------------  -----  \n",
      " 0   Order         2930 non-null   int64  \n",
      " 1   PID           2930 non-null   int64  \n",
      " 2   MS SubClass   2930 non-null   int64  \n",
      " 3   MS Zoning     2930 non-null   object \n",
      " 4   Lot Frontage  2440 non-null   float64\n",
      " 5   Lot Area      2930 non-null   int64  \n",
      " 6   Street        2930 non-null   object \n",
      " 7   Alley         198 non-null    object \n",
      " 8   Lot Shape     2930 non-null   object \n",
      " 9   SalePrice     2930 non-null   int64  \n",
      "dtypes: float64(1), int64(5), object(4)\n",
      "memory usage: 229.0+ KB\n"
     ]
    }
   ],
   "source": [
    "df.info()"
   ]
  },
  {
   "cell_type": "markdown",
   "id": "86e2eb98-0675-4b8c-8392-f4315f622d16",
   "metadata": {},
   "source": [
    "### Detect missing data using isnull(), notnull()."
   ]
  },
  {
   "cell_type": "code",
   "execution_count": 7,
   "id": "5ee48a17-8542-4dbf-a112-24f844fdd1e1",
   "metadata": {},
   "outputs": [
    {
     "data": {
      "text/html": [
       "<div>\n",
       "<style scoped>\n",
       "    .dataframe tbody tr th:only-of-type {\n",
       "        vertical-align: middle;\n",
       "    }\n",
       "\n",
       "    .dataframe tbody tr th {\n",
       "        vertical-align: top;\n",
       "    }\n",
       "\n",
       "    .dataframe thead th {\n",
       "        text-align: right;\n",
       "    }\n",
       "</style>\n",
       "<table border=\"1\" class=\"dataframe\">\n",
       "  <thead>\n",
       "    <tr style=\"text-align: right;\">\n",
       "      <th></th>\n",
       "      <th>Order</th>\n",
       "      <th>PID</th>\n",
       "      <th>MS SubClass</th>\n",
       "      <th>MS Zoning</th>\n",
       "      <th>Lot Frontage</th>\n",
       "      <th>Lot Area</th>\n",
       "      <th>Street</th>\n",
       "      <th>Alley</th>\n",
       "      <th>Lot Shape</th>\n",
       "      <th>SalePrice</th>\n",
       "    </tr>\n",
       "  </thead>\n",
       "  <tbody>\n",
       "    <tr>\n",
       "      <th>0</th>\n",
       "      <td>False</td>\n",
       "      <td>False</td>\n",
       "      <td>False</td>\n",
       "      <td>False</td>\n",
       "      <td>False</td>\n",
       "      <td>False</td>\n",
       "      <td>False</td>\n",
       "      <td>True</td>\n",
       "      <td>False</td>\n",
       "      <td>False</td>\n",
       "    </tr>\n",
       "    <tr>\n",
       "      <th>1</th>\n",
       "      <td>False</td>\n",
       "      <td>False</td>\n",
       "      <td>False</td>\n",
       "      <td>False</td>\n",
       "      <td>False</td>\n",
       "      <td>False</td>\n",
       "      <td>False</td>\n",
       "      <td>True</td>\n",
       "      <td>False</td>\n",
       "      <td>False</td>\n",
       "    </tr>\n",
       "    <tr>\n",
       "      <th>2</th>\n",
       "      <td>False</td>\n",
       "      <td>False</td>\n",
       "      <td>False</td>\n",
       "      <td>False</td>\n",
       "      <td>False</td>\n",
       "      <td>False</td>\n",
       "      <td>False</td>\n",
       "      <td>True</td>\n",
       "      <td>False</td>\n",
       "      <td>False</td>\n",
       "    </tr>\n",
       "    <tr>\n",
       "      <th>3</th>\n",
       "      <td>False</td>\n",
       "      <td>False</td>\n",
       "      <td>False</td>\n",
       "      <td>False</td>\n",
       "      <td>False</td>\n",
       "      <td>False</td>\n",
       "      <td>False</td>\n",
       "      <td>True</td>\n",
       "      <td>False</td>\n",
       "      <td>False</td>\n",
       "    </tr>\n",
       "    <tr>\n",
       "      <th>4</th>\n",
       "      <td>False</td>\n",
       "      <td>False</td>\n",
       "      <td>False</td>\n",
       "      <td>False</td>\n",
       "      <td>False</td>\n",
       "      <td>False</td>\n",
       "      <td>False</td>\n",
       "      <td>True</td>\n",
       "      <td>False</td>\n",
       "      <td>False</td>\n",
       "    </tr>\n",
       "    <tr>\n",
       "      <th>...</th>\n",
       "      <td>...</td>\n",
       "      <td>...</td>\n",
       "      <td>...</td>\n",
       "      <td>...</td>\n",
       "      <td>...</td>\n",
       "      <td>...</td>\n",
       "      <td>...</td>\n",
       "      <td>...</td>\n",
       "      <td>...</td>\n",
       "      <td>...</td>\n",
       "    </tr>\n",
       "    <tr>\n",
       "      <th>2925</th>\n",
       "      <td>False</td>\n",
       "      <td>False</td>\n",
       "      <td>False</td>\n",
       "      <td>False</td>\n",
       "      <td>False</td>\n",
       "      <td>False</td>\n",
       "      <td>False</td>\n",
       "      <td>True</td>\n",
       "      <td>False</td>\n",
       "      <td>False</td>\n",
       "    </tr>\n",
       "    <tr>\n",
       "      <th>2926</th>\n",
       "      <td>False</td>\n",
       "      <td>False</td>\n",
       "      <td>False</td>\n",
       "      <td>False</td>\n",
       "      <td>True</td>\n",
       "      <td>False</td>\n",
       "      <td>False</td>\n",
       "      <td>True</td>\n",
       "      <td>False</td>\n",
       "      <td>False</td>\n",
       "    </tr>\n",
       "    <tr>\n",
       "      <th>2927</th>\n",
       "      <td>False</td>\n",
       "      <td>False</td>\n",
       "      <td>False</td>\n",
       "      <td>False</td>\n",
       "      <td>False</td>\n",
       "      <td>False</td>\n",
       "      <td>False</td>\n",
       "      <td>True</td>\n",
       "      <td>False</td>\n",
       "      <td>False</td>\n",
       "    </tr>\n",
       "    <tr>\n",
       "      <th>2928</th>\n",
       "      <td>False</td>\n",
       "      <td>False</td>\n",
       "      <td>False</td>\n",
       "      <td>False</td>\n",
       "      <td>False</td>\n",
       "      <td>False</td>\n",
       "      <td>False</td>\n",
       "      <td>True</td>\n",
       "      <td>False</td>\n",
       "      <td>False</td>\n",
       "    </tr>\n",
       "    <tr>\n",
       "      <th>2929</th>\n",
       "      <td>False</td>\n",
       "      <td>False</td>\n",
       "      <td>False</td>\n",
       "      <td>False</td>\n",
       "      <td>False</td>\n",
       "      <td>False</td>\n",
       "      <td>False</td>\n",
       "      <td>True</td>\n",
       "      <td>False</td>\n",
       "      <td>False</td>\n",
       "    </tr>\n",
       "  </tbody>\n",
       "</table>\n",
       "<p>2930 rows × 10 columns</p>\n",
       "</div>"
      ],
      "text/plain": [
       "      Order    PID  MS SubClass  MS Zoning  Lot Frontage  Lot Area  Street  \\\n",
       "0     False  False        False      False         False     False   False   \n",
       "1     False  False        False      False         False     False   False   \n",
       "2     False  False        False      False         False     False   False   \n",
       "3     False  False        False      False         False     False   False   \n",
       "4     False  False        False      False         False     False   False   \n",
       "...     ...    ...          ...        ...           ...       ...     ...   \n",
       "2925  False  False        False      False         False     False   False   \n",
       "2926  False  False        False      False          True     False   False   \n",
       "2927  False  False        False      False         False     False   False   \n",
       "2928  False  False        False      False         False     False   False   \n",
       "2929  False  False        False      False         False     False   False   \n",
       "\n",
       "      Alley  Lot Shape  SalePrice  \n",
       "0      True      False      False  \n",
       "1      True      False      False  \n",
       "2      True      False      False  \n",
       "3      True      False      False  \n",
       "4      True      False      False  \n",
       "...     ...        ...        ...  \n",
       "2925   True      False      False  \n",
       "2926   True      False      False  \n",
       "2927   True      False      False  \n",
       "2928   True      False      False  \n",
       "2929   True      False      False  \n",
       "\n",
       "[2930 rows x 10 columns]"
      ]
     },
     "execution_count": 7,
     "metadata": {},
     "output_type": "execute_result"
    }
   ],
   "source": [
    "df.isnull()"
   ]
  },
  {
   "cell_type": "code",
   "execution_count": 8,
   "id": "fbf43011-7990-455c-835f-d0e303584873",
   "metadata": {},
   "outputs": [
    {
     "data": {
      "text/html": [
       "<div>\n",
       "<style scoped>\n",
       "    .dataframe tbody tr th:only-of-type {\n",
       "        vertical-align: middle;\n",
       "    }\n",
       "\n",
       "    .dataframe tbody tr th {\n",
       "        vertical-align: top;\n",
       "    }\n",
       "\n",
       "    .dataframe thead th {\n",
       "        text-align: right;\n",
       "    }\n",
       "</style>\n",
       "<table border=\"1\" class=\"dataframe\">\n",
       "  <thead>\n",
       "    <tr style=\"text-align: right;\">\n",
       "      <th></th>\n",
       "      <th>Order</th>\n",
       "      <th>PID</th>\n",
       "      <th>MS SubClass</th>\n",
       "      <th>MS Zoning</th>\n",
       "      <th>Lot Frontage</th>\n",
       "      <th>Lot Area</th>\n",
       "      <th>Street</th>\n",
       "      <th>Alley</th>\n",
       "      <th>Lot Shape</th>\n",
       "      <th>SalePrice</th>\n",
       "    </tr>\n",
       "  </thead>\n",
       "  <tbody>\n",
       "    <tr>\n",
       "      <th>0</th>\n",
       "      <td>True</td>\n",
       "      <td>True</td>\n",
       "      <td>True</td>\n",
       "      <td>True</td>\n",
       "      <td>True</td>\n",
       "      <td>True</td>\n",
       "      <td>True</td>\n",
       "      <td>False</td>\n",
       "      <td>True</td>\n",
       "      <td>True</td>\n",
       "    </tr>\n",
       "    <tr>\n",
       "      <th>1</th>\n",
       "      <td>True</td>\n",
       "      <td>True</td>\n",
       "      <td>True</td>\n",
       "      <td>True</td>\n",
       "      <td>True</td>\n",
       "      <td>True</td>\n",
       "      <td>True</td>\n",
       "      <td>False</td>\n",
       "      <td>True</td>\n",
       "      <td>True</td>\n",
       "    </tr>\n",
       "    <tr>\n",
       "      <th>2</th>\n",
       "      <td>True</td>\n",
       "      <td>True</td>\n",
       "      <td>True</td>\n",
       "      <td>True</td>\n",
       "      <td>True</td>\n",
       "      <td>True</td>\n",
       "      <td>True</td>\n",
       "      <td>False</td>\n",
       "      <td>True</td>\n",
       "      <td>True</td>\n",
       "    </tr>\n",
       "    <tr>\n",
       "      <th>3</th>\n",
       "      <td>True</td>\n",
       "      <td>True</td>\n",
       "      <td>True</td>\n",
       "      <td>True</td>\n",
       "      <td>True</td>\n",
       "      <td>True</td>\n",
       "      <td>True</td>\n",
       "      <td>False</td>\n",
       "      <td>True</td>\n",
       "      <td>True</td>\n",
       "    </tr>\n",
       "    <tr>\n",
       "      <th>4</th>\n",
       "      <td>True</td>\n",
       "      <td>True</td>\n",
       "      <td>True</td>\n",
       "      <td>True</td>\n",
       "      <td>True</td>\n",
       "      <td>True</td>\n",
       "      <td>True</td>\n",
       "      <td>False</td>\n",
       "      <td>True</td>\n",
       "      <td>True</td>\n",
       "    </tr>\n",
       "    <tr>\n",
       "      <th>...</th>\n",
       "      <td>...</td>\n",
       "      <td>...</td>\n",
       "      <td>...</td>\n",
       "      <td>...</td>\n",
       "      <td>...</td>\n",
       "      <td>...</td>\n",
       "      <td>...</td>\n",
       "      <td>...</td>\n",
       "      <td>...</td>\n",
       "      <td>...</td>\n",
       "    </tr>\n",
       "    <tr>\n",
       "      <th>2925</th>\n",
       "      <td>True</td>\n",
       "      <td>True</td>\n",
       "      <td>True</td>\n",
       "      <td>True</td>\n",
       "      <td>True</td>\n",
       "      <td>True</td>\n",
       "      <td>True</td>\n",
       "      <td>False</td>\n",
       "      <td>True</td>\n",
       "      <td>True</td>\n",
       "    </tr>\n",
       "    <tr>\n",
       "      <th>2926</th>\n",
       "      <td>True</td>\n",
       "      <td>True</td>\n",
       "      <td>True</td>\n",
       "      <td>True</td>\n",
       "      <td>False</td>\n",
       "      <td>True</td>\n",
       "      <td>True</td>\n",
       "      <td>False</td>\n",
       "      <td>True</td>\n",
       "      <td>True</td>\n",
       "    </tr>\n",
       "    <tr>\n",
       "      <th>2927</th>\n",
       "      <td>True</td>\n",
       "      <td>True</td>\n",
       "      <td>True</td>\n",
       "      <td>True</td>\n",
       "      <td>True</td>\n",
       "      <td>True</td>\n",
       "      <td>True</td>\n",
       "      <td>False</td>\n",
       "      <td>True</td>\n",
       "      <td>True</td>\n",
       "    </tr>\n",
       "    <tr>\n",
       "      <th>2928</th>\n",
       "      <td>True</td>\n",
       "      <td>True</td>\n",
       "      <td>True</td>\n",
       "      <td>True</td>\n",
       "      <td>True</td>\n",
       "      <td>True</td>\n",
       "      <td>True</td>\n",
       "      <td>False</td>\n",
       "      <td>True</td>\n",
       "      <td>True</td>\n",
       "    </tr>\n",
       "    <tr>\n",
       "      <th>2929</th>\n",
       "      <td>True</td>\n",
       "      <td>True</td>\n",
       "      <td>True</td>\n",
       "      <td>True</td>\n",
       "      <td>True</td>\n",
       "      <td>True</td>\n",
       "      <td>True</td>\n",
       "      <td>False</td>\n",
       "      <td>True</td>\n",
       "      <td>True</td>\n",
       "    </tr>\n",
       "  </tbody>\n",
       "</table>\n",
       "<p>2930 rows × 10 columns</p>\n",
       "</div>"
      ],
      "text/plain": [
       "      Order   PID  MS SubClass  MS Zoning  Lot Frontage  Lot Area  Street  \\\n",
       "0      True  True         True       True          True      True    True   \n",
       "1      True  True         True       True          True      True    True   \n",
       "2      True  True         True       True          True      True    True   \n",
       "3      True  True         True       True          True      True    True   \n",
       "4      True  True         True       True          True      True    True   \n",
       "...     ...   ...          ...        ...           ...       ...     ...   \n",
       "2925   True  True         True       True          True      True    True   \n",
       "2926   True  True         True       True         False      True    True   \n",
       "2927   True  True         True       True          True      True    True   \n",
       "2928   True  True         True       True          True      True    True   \n",
       "2929   True  True         True       True          True      True    True   \n",
       "\n",
       "      Alley  Lot Shape  SalePrice  \n",
       "0     False       True       True  \n",
       "1     False       True       True  \n",
       "2     False       True       True  \n",
       "3     False       True       True  \n",
       "4     False       True       True  \n",
       "...     ...        ...        ...  \n",
       "2925  False       True       True  \n",
       "2926  False       True       True  \n",
       "2927  False       True       True  \n",
       "2928  False       True       True  \n",
       "2929  False       True       True  \n",
       "\n",
       "[2930 rows x 10 columns]"
      ]
     },
     "execution_count": 8,
     "metadata": {},
     "output_type": "execute_result"
    }
   ],
   "source": [
    "df.notnull()"
   ]
  },
  {
   "cell_type": "markdown",
   "id": "355c82f6-af30-4b58-8a69-79c430f6229d",
   "metadata": {},
   "source": [
    "### Count missing values per column."
   ]
  },
  {
   "cell_type": "code",
   "execution_count": 9,
   "id": "9581b1b3-d0d2-481e-bb9f-af96d526d5cc",
   "metadata": {},
   "outputs": [
    {
     "data": {
      "text/plain": [
       "Order              0\n",
       "PID                0\n",
       "MS SubClass        0\n",
       "MS Zoning          0\n",
       "Lot Frontage     490\n",
       "Lot Area           0\n",
       "Street             0\n",
       "Alley           2732\n",
       "Lot Shape          0\n",
       "SalePrice          0\n",
       "dtype: int64"
      ]
     },
     "execution_count": 9,
     "metadata": {},
     "output_type": "execute_result"
    }
   ],
   "source": [
    "df.isnull().sum()"
   ]
  },
  {
   "cell_type": "markdown",
   "id": "e1ae21a7-601a-4055-aab2-46ff2f959799",
   "metadata": {},
   "source": [
    "### Visualize missing data (heatmaps, bar plots)."
   ]
  },
  {
   "cell_type": "code",
   "execution_count": 10,
   "id": "458197de-b3a4-4c59-9910-490cc8b5a53a",
   "metadata": {},
   "outputs": [
    {
     "data": {
      "text/plain": [
       "Text(0.5, 1.0, 'Heatmap of missing values')"
      ]
     },
     "execution_count": 10,
     "metadata": {},
     "output_type": "execute_result"
    },
    {
     "data": {
      "image/png": "[encoded data removed]",
      "text/plain": [
       "<Figure size 1200x600 with 2 Axes>"
      ]
     },
     "metadata": {},
     "output_type": "display_data"
    }
   ],
   "source": [
    "plt.figure(figsize=(12,6))\n",
    "sns.heatmap(df.isnull())\n",
    "plt.title(\"Heatmap of missing values\")"
   ]
  },
  {
   "cell_type": "code",
   "execution_count": 11,
   "id": "198acf73-a150-4374-880a-779597339f37",
   "metadata": {},
   "outputs": [
    {
     "data": {
      "image/png": "[encoded data removed]",
      "text/plain": [
       "<Figure size 640x480 with 1 Axes>"
      ]
     },
     "metadata": {},
     "output_type": "display_data"
    }
   ],
   "source": [
    "sns.barplot(df.isnull())\n",
    "plt.xticks(rotation=90)\n",
    "plt.title(\"Barplot of missing values\")\n",
    "plt.show()"
   ]
  },
  {
   "cell_type": "markdown",
   "id": "492c50fe-1649-4788-b818-5bd0e006d4dd",
   "metadata": {},
   "source": [
    "### Count null values in a specific column."
   ]
  },
  {
   "cell_type": "code",
   "execution_count": 12,
   "id": "624ed33a-37bc-425c-bde2-86a655961fad",
   "metadata": {},
   "outputs": [
    {
     "data": {
      "text/plain": [
       "np.int64(2732)"
      ]
     },
     "execution_count": 12,
     "metadata": {},
     "output_type": "execute_result"
    }
   ],
   "source": [
    "df['Alley'].isnull().sum()"
   ]
  },
  {
   "cell_type": "code",
   "execution_count": 13,
   "id": "d48102e2-bafc-41f3-9ef0-aeec13919c16",
   "metadata": {},
   "outputs": [
    {
     "data": {
      "text/plain": [
       "np.int64(490)"
      ]
     },
     "execution_count": 13,
     "metadata": {},
     "output_type": "execute_result"
    }
   ],
   "source": [
    "df['Lot Frontage'].isnull().sum()"
   ]
  },
  {
   "cell_type": "markdown",
   "id": "f2fadd58-a9b8-4ee5-8a69-2d35e11c087a",
   "metadata": {},
   "source": [
    "### Create a summary of total missing values in a dataset."
   ]
  },
  {
   "cell_type": "code",
   "execution_count": 14,
   "id": "7414be75-f9e0-48f7-af29-b7a92859cd6c",
   "metadata": {},
   "outputs": [
    {
     "data": {
      "text/plain": [
       "Order              0\n",
       "PID                0\n",
       "MS SubClass        0\n",
       "MS Zoning          0\n",
       "Lot Frontage     490\n",
       "Lot Area           0\n",
       "Street             0\n",
       "Alley           2732\n",
       "Lot Shape          0\n",
       "SalePrice          0\n",
       "dtype: int64"
      ]
     },
     "execution_count": 14,
     "metadata": {},
     "output_type": "execute_result"
    }
   ],
   "source": [
    "df.isnull().sum()"
   ]
  },
  {
   "cell_type": "code",
   "execution_count": 15,
   "id": "33ca4cb7-5557-4991-b71a-c6d9785e9de8",
   "metadata": {},
   "outputs": [
    {
     "data": {
      "text/plain": [
       "np.int64(3222)"
      ]
     },
     "execution_count": 15,
     "metadata": {},
     "output_type": "execute_result"
    }
   ],
   "source": [
    "df.isnull().sum().sum() ## 490+2732"
   ]
  },
  {
   "cell_type": "markdown",
   "id": "8ca1fa5c-9de0-4fd2-9b2b-46e2baf2ec10",
   "metadata": {},
   "source": [
    "# 📅 Day 2: Handling Missing Values"
   ]
  },
  {
   "cell_type": "markdown",
   "id": "602721ea-542d-4004-884d-4d3484f8508e",
   "metadata": {},
   "source": [
    "Handling missing values is a key step in data preprocessing for data analysis and machine learning. There are two main approaches: dropping and imputing."
   ]
  },
  {
   "cell_type": "markdown",
   "id": "7e0590ec-fb15-490d-ba22-1c3a9141d686",
   "metadata": {},
   "source": [
    "#### 1. Dropping Missing Values\n",
    "- **Description:** This method removes any rows or columns that have missing (null/NaN) values.\n",
    "\n",
    "- **When to Use:** When the number of missing values is small and will not impact the dataset significantly.\n",
    "\n",
    "#### 2. Imputing Missing Values\n",
    "- **Description:** Replaces missing values with substituted values like mean, median, mode, or using more sophisticated techniques.\n",
    "\n",
    "- **When to Use:** When dropping rows/columns would result in loss of too much data, or when you want to preserve the dataset’s structure."
   ]
  },
  {
   "cell_type": "markdown",
   "id": "242a2f19-d2be-472d-826b-25f3f9a2294a",
   "metadata": {},
   "source": [
    "#### Mean Imputation\n",
    "\n",
    "- **Use for:** Numerical columns with continuous data, when the data is symmetrically distributed (no significant outliers).\n",
    "\n",
    "- **Best for:** Filling missing values in datasets where average better represents missing values than extremes.\n",
    "\n",
    "- **Example:** Imputing missing temperatures in weather data.\n",
    "\n",
    "#### Median Imputation\n",
    "\n",
    "- **Use for:** Numerical columns with skewed distributions or outliers.\n",
    "\n",
    "- **Best for:** Robust to extreme values; use when data is not symmetrically distributed.\n",
    "\n",
    "- **Example:** Imputing house prices in a dataset with some very high or very low prices.\n",
    "\n",
    "#### Mode Imputation\n",
    "\n",
    "- **Use for:** Categorical columns or discrete numerical columns, especially when some values repeat frequently.\n",
    "\n",
    "- **Best for:** Filling missing values in data where the most common value is a logical substitute.\n",
    "\n",
    "- **Example:** Imputing missing values for \"preferred payment method\" in a survey.\n",
    "\n",
    "#### Forward Fill (ffill)\n",
    "\n",
    "- **Use for:** Time series and sequential data, when the previous value is likely to carry forward.\n",
    "\n",
    "- **Best for:** When it makes sense for the last known value to fill missing spaces (e.g., stock prices, sensor data).\n",
    "\n",
    "- **Example:** Imputing missing hourly stock prices by carrying forward the last known value.\n",
    "\n",
    "#### Backward Fill (bfill)\n",
    "\n",
    "- **Use for:** Time series and sequential data, when the next value is more representative.\n",
    "\n",
    "- **Best for:** When future values can reasonably replace previous gaps.\n",
    "\n",
    "- **Example:** Imputing missing hourly sensor readings with the next available value."
   ]
  },
  {
   "cell_type": "code",
   "execution_count": 16,
   "id": "498a3c3b-82e9-4cf1-bab7-02ad46fe69c4",
   "metadata": {},
   "outputs": [
    {
     "data": {
      "text/plain": [
       "Order              0\n",
       "PID                0\n",
       "MS SubClass        0\n",
       "MS Zoning          0\n",
       "Lot Frontage     490\n",
       "Lot Area           0\n",
       "Street             0\n",
       "Alley           2732\n",
       "Lot Shape          0\n",
       "SalePrice          0\n",
       "dtype: int64"
      ]
     },
     "execution_count": 16,
     "metadata": {},
     "output_type": "execute_result"
    }
   ],
   "source": [
    "df.isnull().sum()"
   ]
  },
  {
   "cell_type": "markdown",
   "id": "7182018d-e0f1-429a-b242-d7be5d201c8f",
   "metadata": {},
   "source": [
    "Now we have either remove or impute missing values in Lot frontage and Alley"
   ]
  },
  {
   "cell_type": "code",
   "execution_count": 17,
   "id": "0558e5e4-a051-4b3d-8910-90fa94eb70f5",
   "metadata": {},
   "outputs": [
    {
     "data": {
      "text/plain": [
       "<Axes: xlabel='Lot Frontage', ylabel='Count'>"
      ]
     },
     "execution_count": 17,
     "metadata": {},
     "output_type": "execute_result"
    },
    {
     "data": {
      "image/png": "[encoded data removed]",
      "text/plain": [
       "<Figure size 640x480 with 1 Axes>"
      ]
     },
     "metadata": {},
     "output_type": "display_data"
    }
   ],
   "source": [
    "sns.histplot(df['Lot Frontage'], kde=True)"
   ]
  },
  {
   "cell_type": "markdown",
   "id": "88857355-6236-49e9-918b-afa7ac78b8fb",
   "metadata": {},
   "source": [
    "Data is skewed"
   ]
  },
  {
   "cell_type": "code",
   "execution_count": 18,
   "id": "58aad2da-36b3-4828-90ad-c0600239f0fb",
   "metadata": {},
   "outputs": [
    {
     "data": {
      "text/plain": [
       "array([141.,  80.,  81.,  93.,  74.,  78.,  41.,  43.,  39.,  60.,  75.,\n",
       "        nan,  63.,  85.,  47., 152.,  88., 140., 105.,  65.,  70.,  26.,\n",
       "        21.,  53.,  24., 102.,  98.,  83.,  94.,  95.,  90.,  79., 100.,\n",
       "        44., 110.,  61.,  36.,  67., 108.,  59.,  92.,  58.,  56.,  73.,\n",
       "        72.,  84.,  76.,  50.,  55.,  68., 107.,  25.,  30.,  57.,  40.,\n",
       "        77., 120., 137.,  87., 119.,  64.,  96.,  71.,  69.,  52.,  51.,\n",
       "        54.,  86., 124.,  82.,  38.,  48.,  89.,  66.,  45.,  35., 129.,\n",
       "        31.,  42.,  28.,  99., 104.,  97., 103.,  34., 117., 149., 122.,\n",
       "        62., 174., 106., 112.,  32., 115., 128.,  91.,  33., 121., 144.,\n",
       "       130., 109., 150., 113., 125., 101.,  46., 114., 135., 136.,  37.,\n",
       "        22., 313.,  49., 123., 160., 195., 118., 134., 182., 116., 138.,\n",
       "       155., 126., 200., 168., 111., 131., 153., 133.])"
      ]
     },
     "execution_count": 18,
     "metadata": {},
     "output_type": "execute_result"
    }
   ],
   "source": [
    "df['Lot Frontage'].unique()"
   ]
  },
  {
   "cell_type": "markdown",
   "id": "8f1a88e5-f7b7-435c-8568-afd5f16eacbf",
   "metadata": {},
   "source": [
    "Data is continous and skewed. So impute with median"
   ]
  },
  {
   "cell_type": "code",
   "execution_count": 19,
   "id": "95bedc6d-3a33-490c-8e22-c60609a8700a",
   "metadata": {},
   "outputs": [
    {
     "data": {
      "text/plain": [
       "68.0"
      ]
     },
     "execution_count": 19,
     "metadata": {},
     "output_type": "execute_result"
    }
   ],
   "source": [
    "df['Lot Frontage'].median()"
   ]
  },
  {
   "cell_type": "code",
   "execution_count": 20,
   "id": "2426107c-2ab9-482a-b34a-70045ff6f021",
   "metadata": {},
   "outputs": [
    {
     "name": "stderr",
     "output_type": "stream",
     "text": [
      "C:\\Users\\moham\\AppData\\Local\\Temp\\ipykernel_23156\\2943091932.py:1: FutureWarning: A value is trying to be set on a copy of a DataFrame or Series through chained assignment using an inplace method.\n",
      "The behavior will change in pandas 3.0. This inplace method will never work because the intermediate object on which we are setting values always behaves as a copy.\n",
      "\n",
      "For example, when doing 'df[col].method(value, inplace=True)', try using 'df.method({col: value}, inplace=True)' or df[col] = df[col].method(value) instead, to perform the operation inplace on the original object.\n",
      "\n",
      "\n",
      "  df['Lot Frontage'].fillna(df['Lot Frontage'].median(), inplace=True)\n",
      "C:\\Users\\moham\\AppData\\Local\\Temp\\ipykernel_23156\\2943091932.py:1: SettingWithCopyWarning: \n",
      "A value is trying to be set on a copy of a slice from a DataFrame\n",
      "\n",
      "See the caveats in the documentation: https://pandas.pydata.org/pandas-docs/stable/user_guide/indexing.html#returning-a-view-versus-a-copy\n",
      "  df['Lot Frontage'].fillna(df['Lot Frontage'].median(), inplace=True)\n"
     ]
    }
   ],
   "source": [
    "df['Lot Frontage'].fillna(df['Lot Frontage'].median(), inplace=True)"
   ]
  },
  {
   "cell_type": "code",
   "execution_count": 21,
   "id": "550047f3-0c9a-4372-97c7-fc6e59a04008",
   "metadata": {},
   "outputs": [
    {
     "data": {
      "text/plain": [
       "Order              0\n",
       "PID                0\n",
       "MS SubClass        0\n",
       "MS Zoning          0\n",
       "Lot Frontage       0\n",
       "Lot Area           0\n",
       "Street             0\n",
       "Alley           2732\n",
       "Lot Shape          0\n",
       "SalePrice          0\n",
       "dtype: int64"
      ]
     },
     "execution_count": 21,
     "metadata": {},
     "output_type": "execute_result"
    }
   ],
   "source": [
    "df.isnull().sum()"
   ]
  },
  {
   "cell_type": "code",
   "execution_count": 22,
   "id": "efdd13ca-fc39-490c-a322-0e2187bc345a",
   "metadata": {},
   "outputs": [
    {
     "data": {
      "text/plain": [
       "<Axes: xlabel='Alley', ylabel='Count'>"
      ]
     },
     "execution_count": 22,
     "metadata": {},
     "output_type": "execute_result"
    },
    {
     "data": {
      "image/png": "[encoded data removed]",
      "text/plain": [
       "<Figure size 640x480 with 1 Axes>"
      ]
     },
     "metadata": {},
     "output_type": "display_data"
    }
   ],
   "source": [
    "sns.histplot(df['Alley'], kde=True)"
   ]
  },
  {
   "cell_type": "code",
   "execution_count": 23,
   "id": "55d973ed-83b3-4969-9aa6-da309de719cb",
   "metadata": {},
   "outputs": [
    {
     "data": {
      "text/plain": [
       "array([nan, 'Pave', 'Grvl'], dtype=object)"
      ]
     },
     "execution_count": 23,
     "metadata": {},
     "output_type": "execute_result"
    }
   ],
   "source": [
    "df['Alley'].unique()"
   ]
  },
  {
   "cell_type": "markdown",
   "id": "6a0a8e2c-533c-4ee4-96c2-0af1347306e3",
   "metadata": {},
   "source": [
    "Data is categorical so use mode to impute missing values"
   ]
  },
  {
   "cell_type": "code",
   "execution_count": 24,
   "id": "ae826175-4810-4b5e-b2f4-be39a2f460d4",
   "metadata": {},
   "outputs": [
    {
     "data": {
      "text/plain": [
       "0    Grvl\n",
       "Name: Alley, dtype: object"
      ]
     },
     "execution_count": 24,
     "metadata": {},
     "output_type": "execute_result"
    }
   ],
   "source": [
    "df['Alley'].mode()"
   ]
  },
  {
   "cell_type": "code",
   "execution_count": 25,
   "id": "01d61f8b-e24b-4a68-94de-a12c4909cd3a",
   "metadata": {},
   "outputs": [
    {
     "name": "stderr",
     "output_type": "stream",
     "text": [
      "C:\\Users\\moham\\AppData\\Local\\Temp\\ipykernel_23156\\3684775811.py:1: FutureWarning: A value is trying to be set on a copy of a DataFrame or Series through chained assignment using an inplace method.\n",
      "The behavior will change in pandas 3.0. This inplace method will never work because the intermediate object on which we are setting values always behaves as a copy.\n",
      "\n",
      "For example, when doing 'df[col].method(value, inplace=True)', try using 'df.method({col: value}, inplace=True)' or df[col] = df[col].method(value) instead, to perform the operation inplace on the original object.\n",
      "\n",
      "\n",
      "  df['Alley'].fillna(df['Alley'].mode()[0], inplace=True)\n",
      "C:\\Users\\moham\\AppData\\Local\\Temp\\ipykernel_23156\\3684775811.py:1: SettingWithCopyWarning: \n",
      "A value is trying to be set on a copy of a slice from a DataFrame\n",
      "\n",
      "See the caveats in the documentation: https://pandas.pydata.org/pandas-docs/stable/user_guide/indexing.html#returning-a-view-versus-a-copy\n",
      "  df['Alley'].fillna(df['Alley'].mode()[0], inplace=True)\n"
     ]
    }
   ],
   "source": [
    "df['Alley'].fillna(df['Alley'].mode()[0], inplace=True)"
   ]
  },
  {
   "cell_type": "code",
   "execution_count": 26,
   "id": "ee8ad85e-8e29-4c21-8465-69c340172fef",
   "metadata": {},
   "outputs": [
    {
     "data": {
      "text/plain": [
       "Order           0\n",
       "PID             0\n",
       "MS SubClass     0\n",
       "MS Zoning       0\n",
       "Lot Frontage    0\n",
       "Lot Area        0\n",
       "Street          0\n",
       "Alley           0\n",
       "Lot Shape       0\n",
       "SalePrice       0\n",
       "dtype: int64"
      ]
     },
     "execution_count": 26,
     "metadata": {},
     "output_type": "execute_result"
    }
   ],
   "source": [
    "df.isnull().sum()"
   ]
  },
  {
   "cell_type": "code",
   "execution_count": 27,
   "id": "0b80c723-f6da-4ae0-938f-0371972126ab",
   "metadata": {},
   "outputs": [
    {
     "name": "stdout",
     "output_type": "stream",
     "text": [
      "<class 'pandas.core.frame.DataFrame'>\n",
      "RangeIndex: 2930 entries, 0 to 2929\n",
      "Data columns (total 10 columns):\n",
      " #   Column        Non-Null Count  Dtype  \n",
      "---  ------        --------------  -----  \n",
      " 0   Order         2930 non-null   int64  \n",
      " 1   PID           2930 non-null   int64  \n",
      " 2   MS SubClass   2930 non-null   int64  \n",
      " 3   MS Zoning     2930 non-null   object \n",
      " 4   Lot Frontage  2930 non-null   float64\n",
      " 5   Lot Area      2930 non-null   int64  \n",
      " 6   Street        2930 non-null   object \n",
      " 7   Alley         2930 non-null   object \n",
      " 8   Lot Shape     2930 non-null   object \n",
      " 9   SalePrice     2930 non-null   int64  \n",
      "dtypes: float64(1), int64(5), object(4)\n",
      "memory usage: 229.0+ KB\n"
     ]
    }
   ],
   "source": [
    "df.info()"
   ]
  },
  {
   "cell_type": "code",
   "execution_count": 28,
   "id": "86541b79-e3cd-4c4e-86be-ebacdac5e381",
   "metadata": {},
   "outputs": [
    {
     "data": {
      "text/html": [
       "<div>\n",
       "<style scoped>\n",
       "    .dataframe tbody tr th:only-of-type {\n",
       "        vertical-align: middle;\n",
       "    }\n",
       "\n",
       "    .dataframe tbody tr th {\n",
       "        vertical-align: top;\n",
       "    }\n",
       "\n",
       "    .dataframe thead th {\n",
       "        text-align: right;\n",
       "    }\n",
       "</style>\n",
       "<table border=\"1\" class=\"dataframe\">\n",
       "  <thead>\n",
       "    <tr style=\"text-align: right;\">\n",
       "      <th></th>\n",
       "      <th>Order</th>\n",
       "      <th>PID</th>\n",
       "      <th>MS SubClass</th>\n",
       "      <th>MS Zoning</th>\n",
       "      <th>Lot Frontage</th>\n",
       "      <th>Lot Area</th>\n",
       "      <th>Street</th>\n",
       "      <th>Alley</th>\n",
       "      <th>Lot Shape</th>\n",
       "      <th>SalePrice</th>\n",
       "    </tr>\n",
       "  </thead>\n",
       "  <tbody>\n",
       "    <tr>\n",
       "      <th>0</th>\n",
       "      <td>1</td>\n",
       "      <td>526301100</td>\n",
       "      <td>20</td>\n",
       "      <td>RL</td>\n",
       "      <td>141.0</td>\n",
       "      <td>31770</td>\n",
       "      <td>Pave</td>\n",
       "      <td>Grvl</td>\n",
       "      <td>IR1</td>\n",
       "      <td>215000</td>\n",
       "    </tr>\n",
       "    <tr>\n",
       "      <th>1</th>\n",
       "      <td>2</td>\n",
       "      <td>526350040</td>\n",
       "      <td>20</td>\n",
       "      <td>RH</td>\n",
       "      <td>80.0</td>\n",
       "      <td>11622</td>\n",
       "      <td>Pave</td>\n",
       "      <td>Grvl</td>\n",
       "      <td>Reg</td>\n",
       "      <td>105000</td>\n",
       "    </tr>\n",
       "    <tr>\n",
       "      <th>2</th>\n",
       "      <td>3</td>\n",
       "      <td>526351010</td>\n",
       "      <td>20</td>\n",
       "      <td>RL</td>\n",
       "      <td>81.0</td>\n",
       "      <td>14267</td>\n",
       "      <td>Pave</td>\n",
       "      <td>Grvl</td>\n",
       "      <td>IR1</td>\n",
       "      <td>172000</td>\n",
       "    </tr>\n",
       "    <tr>\n",
       "      <th>3</th>\n",
       "      <td>4</td>\n",
       "      <td>526353030</td>\n",
       "      <td>20</td>\n",
       "      <td>RL</td>\n",
       "      <td>93.0</td>\n",
       "      <td>11160</td>\n",
       "      <td>Pave</td>\n",
       "      <td>Grvl</td>\n",
       "      <td>Reg</td>\n",
       "      <td>244000</td>\n",
       "    </tr>\n",
       "    <tr>\n",
       "      <th>4</th>\n",
       "      <td>5</td>\n",
       "      <td>527105010</td>\n",
       "      <td>60</td>\n",
       "      <td>RL</td>\n",
       "      <td>74.0</td>\n",
       "      <td>13830</td>\n",
       "      <td>Pave</td>\n",
       "      <td>Grvl</td>\n",
       "      <td>IR1</td>\n",
       "      <td>189900</td>\n",
       "    </tr>\n",
       "  </tbody>\n",
       "</table>\n",
       "</div>"
      ],
      "text/plain": [
       "   Order        PID  MS SubClass MS Zoning  Lot Frontage  Lot Area Street  \\\n",
       "0      1  526301100           20        RL         141.0     31770   Pave   \n",
       "1      2  526350040           20        RH          80.0     11622   Pave   \n",
       "2      3  526351010           20        RL          81.0     14267   Pave   \n",
       "3      4  526353030           20        RL          93.0     11160   Pave   \n",
       "4      5  527105010           60        RL          74.0     13830   Pave   \n",
       "\n",
       "  Alley Lot Shape  SalePrice  \n",
       "0  Grvl       IR1     215000  \n",
       "1  Grvl       Reg     105000  \n",
       "2  Grvl       IR1     172000  \n",
       "3  Grvl       Reg     244000  \n",
       "4  Grvl       IR1     189900  "
      ]
     },
     "execution_count": 28,
     "metadata": {},
     "output_type": "execute_result"
    }
   ],
   "source": [
    "df.head()"
   ]
  },
  {
   "cell_type": "code",
   "execution_count": null,
   "id": "54da2f00-a0b7-4863-ab93-b4bfd35a7e90",
   "metadata": {},
   "outputs": [],
   "source": [
    "df.tail()"
   ]
  },
  {
   "cell_type": "markdown",
   "id": "1dbd1a4f-b12c-4427-a9d1-e17a9134ad4f",
   "metadata": {},
   "source": [
    "Drop columns Order and PID, because it is not a useful feature."
   ]
  },
  {
   "cell_type": "code",
   "execution_count": 29,
   "id": "8c7397ea-8771-4608-ad56-c3b9fef59365",
   "metadata": {},
   "outputs": [
    {
     "name": "stderr",
     "output_type": "stream",
     "text": [
      "C:\\Users\\moham\\AppData\\Local\\Temp\\ipykernel_23156\\130305512.py:1: SettingWithCopyWarning: \n",
      "A value is trying to be set on a copy of a slice from a DataFrame\n",
      "\n",
      "See the caveats in the documentation: https://pandas.pydata.org/pandas-docs/stable/user_guide/indexing.html#returning-a-view-versus-a-copy\n",
      "  df.drop(['Order','PID'],axis=1, inplace=True)\n"
     ]
    }
   ],
   "source": [
    "df.drop(['Order','PID'],axis=1, inplace=True)"
   ]
  },
  {
   "cell_type": "code",
   "execution_count": 30,
   "id": "470d5d08-f365-4977-a385-28de581590dc",
   "metadata": {},
   "outputs": [
    {
     "data": {
      "text/html": [
       "<div>\n",
       "<style scoped>\n",
       "    .dataframe tbody tr th:only-of-type {\n",
       "        vertical-align: middle;\n",
       "    }\n",
       "\n",
       "    .dataframe tbody tr th {\n",
       "        vertical-align: top;\n",
       "    }\n",
       "\n",
       "    .dataframe thead th {\n",
       "        text-align: right;\n",
       "    }\n",
       "</style>\n",
       "<table border=\"1\" class=\"dataframe\">\n",
       "  <thead>\n",
       "    <tr style=\"text-align: right;\">\n",
       "      <th></th>\n",
       "      <th>MS SubClass</th>\n",
       "      <th>MS Zoning</th>\n",
       "      <th>Lot Frontage</th>\n",
       "      <th>Lot Area</th>\n",
       "      <th>Street</th>\n",
       "      <th>Alley</th>\n",
       "      <th>Lot Shape</th>\n",
       "      <th>SalePrice</th>\n",
       "    </tr>\n",
       "  </thead>\n",
       "  <tbody>\n",
       "    <tr>\n",
       "      <th>0</th>\n",
       "      <td>20</td>\n",
       "      <td>RL</td>\n",
       "      <td>141.0</td>\n",
       "      <td>31770</td>\n",
       "      <td>Pave</td>\n",
       "      <td>Grvl</td>\n",
       "      <td>IR1</td>\n",
       "      <td>215000</td>\n",
       "    </tr>\n",
       "    <tr>\n",
       "      <th>1</th>\n",
       "      <td>20</td>\n",
       "      <td>RH</td>\n",
       "      <td>80.0</td>\n",
       "      <td>11622</td>\n",
       "      <td>Pave</td>\n",
       "      <td>Grvl</td>\n",
       "      <td>Reg</td>\n",
       "      <td>105000</td>\n",
       "    </tr>\n",
       "    <tr>\n",
       "      <th>2</th>\n",
       "      <td>20</td>\n",
       "      <td>RL</td>\n",
       "      <td>81.0</td>\n",
       "      <td>14267</td>\n",
       "      <td>Pave</td>\n",
       "      <td>Grvl</td>\n",
       "      <td>IR1</td>\n",
       "      <td>172000</td>\n",
       "    </tr>\n",
       "    <tr>\n",
       "      <th>3</th>\n",
       "      <td>20</td>\n",
       "      <td>RL</td>\n",
       "      <td>93.0</td>\n",
       "      <td>11160</td>\n",
       "      <td>Pave</td>\n",
       "      <td>Grvl</td>\n",
       "      <td>Reg</td>\n",
       "      <td>244000</td>\n",
       "    </tr>\n",
       "    <tr>\n",
       "      <th>4</th>\n",
       "      <td>60</td>\n",
       "      <td>RL</td>\n",
       "      <td>74.0</td>\n",
       "      <td>13830</td>\n",
       "      <td>Pave</td>\n",
       "      <td>Grvl</td>\n",
       "      <td>IR1</td>\n",
       "      <td>189900</td>\n",
       "    </tr>\n",
       "  </tbody>\n",
       "</table>\n",
       "</div>"
      ],
      "text/plain": [
       "   MS SubClass MS Zoning  Lot Frontage  Lot Area Street Alley Lot Shape  \\\n",
       "0           20        RL         141.0     31770   Pave  Grvl       IR1   \n",
       "1           20        RH          80.0     11622   Pave  Grvl       Reg   \n",
       "2           20        RL          81.0     14267   Pave  Grvl       IR1   \n",
       "3           20        RL          93.0     11160   Pave  Grvl       Reg   \n",
       "4           60        RL          74.0     13830   Pave  Grvl       IR1   \n",
       "\n",
       "   SalePrice  \n",
       "0     215000  \n",
       "1     105000  \n",
       "2     172000  \n",
       "3     244000  \n",
       "4     189900  "
      ]
     },
     "execution_count": 30,
     "metadata": {},
     "output_type": "execute_result"
    }
   ],
   "source": [
    "df.head()"
   ]
  },
  {
   "cell_type": "markdown",
   "id": "65e34f0f-6fc4-4282-a980-348d3df968fa",
   "metadata": {},
   "source": [
    "# 📅 Day 3: Detecting Outliers"
   ]
  },
  {
   "cell_type": "markdown",
   "id": "42929b45-5f2b-4d31-8191-dfe6528371dd",
   "metadata": {},
   "source": [
    "Detecting Outliers means finding data points that are unusually far from most others in a dataset. Outliers can distort analysis, so spotting them (with boxplots, IQR, or z-scores) helps improve data quality."
   ]
  },
  {
   "cell_type": "markdown",
   "id": "0399c70d-b93a-4b84-9e91-46e27b7abe74",
   "metadata": {},
   "source": [
    "**Use IQR method**\n",
    "\n",
    "- When your data is not normally distributed or is skewed.\n",
    "\n",
    "- Especially for boxplot-based or non-parametric data.\n",
    "\n",
    "- IQR is best for smaller datasets and categorical/ordinal data.\n",
    "\n",
    "**Use Z-score method**\n",
    "\n",
    "- When your data is normally distributed (follows Gaussian distribution).\n",
    "\n",
    "- Useful for large continuous datasets.\n",
    "\n",
    "- Z-scores flag points that are many standard deviations from the mean."
   ]
  },
  {
   "cell_type": "code",
   "execution_count": 31,
   "id": "e8250326-8741-42d4-95b6-3693725a59ea",
   "metadata": {},
   "outputs": [
    {
     "data": {
      "text/plain": [
       "<Axes: ylabel='MS SubClass'>"
      ]
     },
     "execution_count": 31,
     "metadata": {},
     "output_type": "execute_result"
    },
    {
     "data": {
      "image/png": "[encoded data removed]",
      "text/plain": [
       "<Figure size 640x480 with 1 Axes>"
      ]
     },
     "metadata": {},
     "output_type": "display_data"
    }
   ],
   "source": [
    "sns.boxplot(df['MS SubClass'])"
   ]
  },
  {
   "cell_type": "code",
   "execution_count": 32,
   "id": "70695328-3cff-4e77-b96b-ceb4cb693419",
   "metadata": {},
   "outputs": [
    {
     "data": {
      "text/plain": [
       "<Axes: xlabel='MS SubClass', ylabel='Count'>"
      ]
     },
     "execution_count": 32,
     "metadata": {},
     "output_type": "execute_result"
    },
    {
     "data": {
      "image/png": "[encoded data removed]",
      "text/plain": [
       "<Figure size 640x480 with 1 Axes>"
      ]
     },
     "metadata": {},
     "output_type": "display_data"
    }
   ],
   "source": [
    "sns.histplot(df['MS SubClass'], kde=True)"
   ]
  },
  {
   "cell_type": "markdown",
   "id": "4db4f7d6-e1f4-4962-8540-3d45d3eba0e0",
   "metadata": {},
   "source": [
    "Not symmetric. Use IQR method"
   ]
  },
  {
   "cell_type": "markdown",
   "id": "3a877487-d84e-4f62-ae99-9d43d5eecfc9",
   "metadata": {},
   "source": [
    "#### IQR Method\n",
    "\n"
   ]
  },
  {
   "cell_type": "code",
   "execution_count": 33,
   "id": "bec9894e-0cfc-47fb-818f-eabb3ca71165",
   "metadata": {},
   "outputs": [
    {
     "data": {
      "text/plain": [
       "array([ 20,  20,  20, ..., 190, 190, 190], shape=(2930,))"
      ]
     },
     "execution_count": 33,
     "metadata": {},
     "output_type": "execute_result"
    }
   ],
   "source": [
    "sorted = np.sort(df['MS SubClass'])\n",
    "sorted"
   ]
  },
  {
   "cell_type": "code",
   "execution_count": 34,
   "id": "3916d654-849a-49a9-8993-7ca8e0b0fc3a",
   "metadata": {},
   "outputs": [
    {
     "data": {
      "text/plain": [
       "(np.float64(20.0), np.float64(70.0))"
      ]
     },
     "execution_count": 34,
     "metadata": {},
     "output_type": "execute_result"
    }
   ],
   "source": [
    "q1 = np.percentile(sorted,25,method='midpoint')\n",
    "q3 = np.percentile(sorted,75,method='midpoint')\n",
    "q1,q3"
   ]
  },
  {
   "cell_type": "code",
   "execution_count": 35,
   "id": "3b1b1b63-2778-4c44-8651-f33118888042",
   "metadata": {},
   "outputs": [
    {
     "data": {
      "text/plain": [
       "(np.float64(50.0), np.float64(-55.0), np.float64(145.0))"
      ]
     },
     "execution_count": 35,
     "metadata": {},
     "output_type": "execute_result"
    }
   ],
   "source": [
    "iqr=q3-q1\n",
    "low_limit = q1 - (1.5*iqr)\n",
    "upper_limit = q3 + (1.5*iqr)\n",
    "iqr,low_limit,upper_limit"
   ]
  },
  {
   "cell_type": "code",
   "execution_count": 36,
   "id": "b10e640c-b4bf-49a0-a809-ac2bd50f4de4",
   "metadata": {},
   "outputs": [
    {
     "name": "stdout",
     "output_type": "stream",
     "text": [
      "[np.int64(150), np.int64(160), np.int64(160), np.int64(160), np.int64(160), np.int64(160), np.int64(160), np.int64(160), np.int64(160), np.int64(160), np.int64(160), np.int64(160), np.int64(160), np.int64(160), np.int64(160), np.int64(160), np.int64(160), np.int64(160), np.int64(160), np.int64(160), np.int64(160), np.int64(160), np.int64(160), np.int64(160), np.int64(160), np.int64(160), np.int64(160), np.int64(160), np.int64(160), np.int64(160), np.int64(160), np.int64(160), np.int64(160), np.int64(160), np.int64(160), np.int64(160), np.int64(160), np.int64(160), np.int64(160), np.int64(160), np.int64(160), np.int64(160), np.int64(160), np.int64(160), np.int64(160), np.int64(160), np.int64(160), np.int64(160), np.int64(160), np.int64(160), np.int64(160), np.int64(160), np.int64(160), np.int64(160), np.int64(160), np.int64(160), np.int64(160), np.int64(160), np.int64(160), np.int64(160), np.int64(160), np.int64(160), np.int64(160), np.int64(160), np.int64(160), np.int64(160), np.int64(160), np.int64(160), np.int64(160), np.int64(160), np.int64(160), np.int64(160), np.int64(160), np.int64(160), np.int64(160), np.int64(160), np.int64(160), np.int64(160), np.int64(160), np.int64(160), np.int64(160), np.int64(160), np.int64(160), np.int64(160), np.int64(160), np.int64(160), np.int64(160), np.int64(160), np.int64(160), np.int64(160), np.int64(160), np.int64(160), np.int64(160), np.int64(160), np.int64(160), np.int64(160), np.int64(160), np.int64(160), np.int64(160), np.int64(160), np.int64(160), np.int64(160), np.int64(160), np.int64(160), np.int64(160), np.int64(160), np.int64(160), np.int64(160), np.int64(160), np.int64(160), np.int64(160), np.int64(160), np.int64(160), np.int64(160), np.int64(160), np.int64(160), np.int64(160), np.int64(160), np.int64(160), np.int64(160), np.int64(160), np.int64(160), np.int64(160), np.int64(160), np.int64(160), np.int64(160), np.int64(160), np.int64(160), np.int64(160), np.int64(160), np.int64(180), np.int64(180), np.int64(180), np.int64(180), np.int64(180), np.int64(180), np.int64(180), np.int64(180), np.int64(180), np.int64(180), np.int64(180), np.int64(180), np.int64(180), np.int64(180), np.int64(180), np.int64(180), np.int64(180), np.int64(190), np.int64(190), np.int64(190), np.int64(190), np.int64(190), np.int64(190), np.int64(190), np.int64(190), np.int64(190), np.int64(190), np.int64(190), np.int64(190), np.int64(190), np.int64(190), np.int64(190), np.int64(190), np.int64(190), np.int64(190), np.int64(190), np.int64(190), np.int64(190), np.int64(190), np.int64(190), np.int64(190), np.int64(190), np.int64(190), np.int64(190), np.int64(190), np.int64(190), np.int64(190), np.int64(190), np.int64(190), np.int64(190), np.int64(190), np.int64(190), np.int64(190), np.int64(190), np.int64(190), np.int64(190), np.int64(190), np.int64(190), np.int64(190), np.int64(190), np.int64(190), np.int64(190), np.int64(190), np.int64(190), np.int64(190), np.int64(190), np.int64(190), np.int64(190), np.int64(190), np.int64(190), np.int64(190), np.int64(190), np.int64(190), np.int64(190), np.int64(190), np.int64(190), np.int64(190), np.int64(190)] 208\n"
     ]
    }
   ],
   "source": [
    "outliers=[]\n",
    "for i in sorted:\n",
    "    if i < low_limit or i > upper_limit:\n",
    "        outliers.append(i)\n",
    "print(outliers,len(outliers))"
   ]
  },
  {
   "cell_type": "code",
   "execution_count": 37,
   "id": "687b6cfb-2b0b-4012-bbd6-a4d9081abfe8",
   "metadata": {},
   "outputs": [
    {
     "data": {
      "text/plain": [
       "Index([  29,   30,   31,   33,   35,   50,   94,   95,   96,   97,\n",
       "       ...\n",
       "       2908, 2909, 2910, 2913, 2914, 2916, 2917, 2918, 2919, 2920],\n",
       "      dtype='int64', length=208)"
      ]
     },
     "execution_count": 37,
     "metadata": {},
     "output_type": "execute_result"
    }
   ],
   "source": [
    "outlier_index = df[df['MS SubClass'].isin(outliers)].index\n",
    "outlier_index"
   ]
  },
  {
   "cell_type": "code",
   "execution_count": 38,
   "id": "c3fde8dd-6a76-43fe-a14e-46565b33cd83",
   "metadata": {},
   "outputs": [
    {
     "name": "stderr",
     "output_type": "stream",
     "text": [
      "C:\\Users\\moham\\AppData\\Local\\Temp\\ipykernel_23156\\230856500.py:1: SettingWithCopyWarning: \n",
      "A value is trying to be set on a copy of a slice from a DataFrame\n",
      "\n",
      "See the caveats in the documentation: https://pandas.pydata.org/pandas-docs/stable/user_guide/indexing.html#returning-a-view-versus-a-copy\n",
      "  df.drop(outlier_index, inplace=True)\n"
     ]
    }
   ],
   "source": [
    "df.drop(outlier_index, inplace=True)"
   ]
  },
  {
   "cell_type": "code",
   "execution_count": 39,
   "id": "702779d8-47cc-4f98-9ee1-986d920d99c5",
   "metadata": {},
   "outputs": [
    {
     "data": {
      "text/plain": [
       "(2722, 8)"
      ]
     },
     "execution_count": 39,
     "metadata": {},
     "output_type": "execute_result"
    }
   ],
   "source": [
    "df.shape"
   ]
  },
  {
   "cell_type": "code",
   "execution_count": 40,
   "id": "7f660759-1942-4bef-8322-d049dcddb123",
   "metadata": {},
   "outputs": [
    {
     "data": {
      "text/html": [
       "<div>\n",
       "<style scoped>\n",
       "    .dataframe tbody tr th:only-of-type {\n",
       "        vertical-align: middle;\n",
       "    }\n",
       "\n",
       "    .dataframe tbody tr th {\n",
       "        vertical-align: top;\n",
       "    }\n",
       "\n",
       "    .dataframe thead th {\n",
       "        text-align: right;\n",
       "    }\n",
       "</style>\n",
       "<table border=\"1\" class=\"dataframe\">\n",
       "  <thead>\n",
       "    <tr style=\"text-align: right;\">\n",
       "      <th></th>\n",
       "      <th>MS SubClass</th>\n",
       "      <th>Lot Area</th>\n",
       "      <th>SalePrice</th>\n",
       "    </tr>\n",
       "  </thead>\n",
       "  <tbody>\n",
       "    <tr>\n",
       "      <th>0</th>\n",
       "      <td>20</td>\n",
       "      <td>31770</td>\n",
       "      <td>215000</td>\n",
       "    </tr>\n",
       "    <tr>\n",
       "      <th>1</th>\n",
       "      <td>20</td>\n",
       "      <td>11622</td>\n",
       "      <td>105000</td>\n",
       "    </tr>\n",
       "    <tr>\n",
       "      <th>2</th>\n",
       "      <td>20</td>\n",
       "      <td>14267</td>\n",
       "      <td>172000</td>\n",
       "    </tr>\n",
       "    <tr>\n",
       "      <th>3</th>\n",
       "      <td>20</td>\n",
       "      <td>11160</td>\n",
       "      <td>244000</td>\n",
       "    </tr>\n",
       "    <tr>\n",
       "      <th>4</th>\n",
       "      <td>60</td>\n",
       "      <td>13830</td>\n",
       "      <td>189900</td>\n",
       "    </tr>\n",
       "    <tr>\n",
       "      <th>...</th>\n",
       "      <td>...</td>\n",
       "      <td>...</td>\n",
       "      <td>...</td>\n",
       "    </tr>\n",
       "    <tr>\n",
       "      <th>2925</th>\n",
       "      <td>80</td>\n",
       "      <td>7937</td>\n",
       "      <td>142500</td>\n",
       "    </tr>\n",
       "    <tr>\n",
       "      <th>2926</th>\n",
       "      <td>20</td>\n",
       "      <td>8885</td>\n",
       "      <td>131000</td>\n",
       "    </tr>\n",
       "    <tr>\n",
       "      <th>2927</th>\n",
       "      <td>85</td>\n",
       "      <td>10441</td>\n",
       "      <td>132000</td>\n",
       "    </tr>\n",
       "    <tr>\n",
       "      <th>2928</th>\n",
       "      <td>20</td>\n",
       "      <td>10010</td>\n",
       "      <td>170000</td>\n",
       "    </tr>\n",
       "    <tr>\n",
       "      <th>2929</th>\n",
       "      <td>60</td>\n",
       "      <td>9627</td>\n",
       "      <td>188000</td>\n",
       "    </tr>\n",
       "  </tbody>\n",
       "</table>\n",
       "<p>2722 rows × 3 columns</p>\n",
       "</div>"
      ],
      "text/plain": [
       "      MS SubClass  Lot Area  SalePrice\n",
       "0              20     31770     215000\n",
       "1              20     11622     105000\n",
       "2              20     14267     172000\n",
       "3              20     11160     244000\n",
       "4              60     13830     189900\n",
       "...           ...       ...        ...\n",
       "2925           80      7937     142500\n",
       "2926           20      8885     131000\n",
       "2927           85     10441     132000\n",
       "2928           20     10010     170000\n",
       "2929           60      9627     188000\n",
       "\n",
       "[2722 rows x 3 columns]"
      ]
     },
     "execution_count": 40,
     "metadata": {},
     "output_type": "execute_result"
    }
   ],
   "source": [
    "bars = df.select_dtypes(int,float)\n",
    "bars"
   ]
  },
  {
   "cell_type": "code",
   "execution_count": 41,
   "id": "f2f2a81e-2b0e-4792-8111-c459d5ef2d21",
   "metadata": {},
   "outputs": [
    {
     "data": {
      "text/plain": [
       "<Axes: >"
      ]
     },
     "execution_count": 41,
     "metadata": {},
     "output_type": "execute_result"
    },
    {
     "data": {
      "image/png": "[encoded data removed]",
      "text/plain": [
       "<Figure size 640x480 with 1 Axes>"
      ]
     },
     "metadata": {},
     "output_type": "display_data"
    }
   ],
   "source": [
    "bars.boxplot()"
   ]
  },
  {
   "cell_type": "code",
   "execution_count": 42,
   "id": "0f88d8bb-189c-466e-9da6-43b15f388f79",
   "metadata": {},
   "outputs": [
    {
     "data": {
      "text/plain": [
       "Lot Area\n",
       "9600     43\n",
       "7200     42\n",
       "6000     32\n",
       "9000     28\n",
       "8400     21\n",
       "         ..\n",
       "8049      1\n",
       "11170     1\n",
       "8098      1\n",
       "14331     1\n",
       "31770     1\n",
       "Name: count, Length: 1858, dtype: int64"
      ]
     },
     "execution_count": 42,
     "metadata": {},
     "output_type": "execute_result"
    }
   ],
   "source": [
    "df['Lot Area'].value_counts()"
   ]
  },
  {
   "cell_type": "code",
   "execution_count": 43,
   "id": "7b979452-cf74-4c69-a7a0-569a101c0618",
   "metadata": {},
   "outputs": [
    {
     "data": {
      "text/plain": [
       "(np.float64(7831.0), np.float64(11700.0))"
      ]
     },
     "execution_count": 43,
     "metadata": {},
     "output_type": "execute_result"
    }
   ],
   "source": [
    "q1=np.percentile(df['Lot Area'],25,method='midpoint')\n",
    "q3=np.percentile(df['Lot Area'],75,method='midpoint')\n",
    "q1,q3"
   ]
  },
  {
   "cell_type": "code",
   "execution_count": 44,
   "id": "de0a919f-d10c-418d-bc66-f8566f50399a",
   "metadata": {},
   "outputs": [
    {
     "data": {
      "text/plain": [
       "np.float64(3869.0)"
      ]
     },
     "execution_count": 44,
     "metadata": {},
     "output_type": "execute_result"
    }
   ],
   "source": [
    "iqr=q3-q1\n",
    "iqr"
   ]
  },
  {
   "cell_type": "code",
   "execution_count": 45,
   "id": "8ab9a8eb-a050-4050-80be-0c7b844dd023",
   "metadata": {},
   "outputs": [
    {
     "data": {
      "text/plain": [
       "(np.float64(2027.5), np.float64(17503.5))"
      ]
     },
     "execution_count": 45,
     "metadata": {},
     "output_type": "execute_result"
    }
   ],
   "source": [
    "lower=q1-(1.5*iqr)\n",
    "upper=q3+(1.5*iqr)\n",
    "lower,upper"
   ]
  },
  {
   "cell_type": "code",
   "execution_count": 46,
   "id": "6b563b59-cfc0-4651-b328-1ae5f134f25f",
   "metadata": {},
   "outputs": [
    {
     "name": "stdout",
     "output_type": "stream",
     "text": [
      "[31770, 53504, 19138, 18494, 18837, 19900, 24090, 20062, 23595, 18600, 19645, 57200, 26142, 23303, 24682, 46589, 29959, 17871, 19296, 17600, 17671, 21384, 25095, 19255, 26400, 28698, 17597, 21695, 21780, 215245, 21750, 21872, 31220, 47280, 20544, 18559, 19508, 24572, 27650, 18386, 21286, 20270, 39104, 53227, 45600, 19550, 21780, 47007, 63887, 26073, 18000, 23730, 18265, 17979, 21750, 56600, 18160, 51974, 21535, 19522, 17542, 17778, 18890, 22002, 18450, 21281, 18030, 25339, 115149, 17541, 22692, 17808, 23920, 159000, 53107, 20064, 39290, 40094, 22420, 21000, 25485, 21579, 17871, 20693, 32668, 18044, 19958, 35133, 43500, 25286, 25000, 33983, 27697, 39384, 19378, 23257, 18062, 18261, 18800, 20431, 21930, 35760, 20896, 50271, 20781, 25419, 21299, 18275, 22950, 33120, 21370, 17920, 17529, 20355, 19690, 19950, 19800, 36500, 21453, 70761, 21533, 17755, 21780, 23580, 26178, 50102, 31250, 20000] 128\n"
     ]
    }
   ],
   "source": [
    "outliers=[]\n",
    "for i in df['Lot Area']:\n",
    "    if i<lower or i>upper:\n",
    "        outliers.append(i)\n",
    "print(outliers,len(outliers))"
   ]
  },
  {
   "cell_type": "code",
   "execution_count": 47,
   "id": "60278fe3-926b-43ee-b565-f76b56ef17b9",
   "metadata": {},
   "outputs": [
    {
     "data": {
      "text/plain": [
       "Index([   0,   15,   18,   51,  113,  136,  208,  229,  232,  234,\n",
       "       ...\n",
       "       2765, 2766, 2797, 2817, 2858, 2885, 2891, 2893, 2903, 2924],\n",
       "      dtype='int64', length=128)"
      ]
     },
     "execution_count": 47,
     "metadata": {},
     "output_type": "execute_result"
    }
   ],
   "source": [
    "outlier_index=df[df['Lot Area'].isin(outliers)].index\n",
    "outlier_index"
   ]
  },
  {
   "cell_type": "code",
   "execution_count": 48,
   "id": "b98abb4e-a5f3-4633-b2c1-5d7cda1feb8a",
   "metadata": {},
   "outputs": [
    {
     "name": "stderr",
     "output_type": "stream",
     "text": [
      "C:\\Users\\moham\\AppData\\Local\\Temp\\ipykernel_23156\\3064104889.py:1: SettingWithCopyWarning: \n",
      "A value is trying to be set on a copy of a slice from a DataFrame\n",
      "\n",
      "See the caveats in the documentation: https://pandas.pydata.org/pandas-docs/stable/user_guide/indexing.html#returning-a-view-versus-a-copy\n",
      "  df.drop(outlier_index,inplace=True)\n"
     ]
    }
   ],
   "source": [
    "df.drop(outlier_index,inplace=True)"
   ]
  },
  {
   "cell_type": "code",
   "execution_count": 49,
   "id": "481eb990-c1f3-4e53-b5e2-4a43d8f1c9f9",
   "metadata": {},
   "outputs": [
    {
     "data": {
      "text/plain": [
       "<Axes: >"
      ]
     },
     "execution_count": 49,
     "metadata": {},
     "output_type": "execute_result"
    },
    {
     "data": {
      "image/png": "[encoded data removed]",
      "text/plain": [
       "<Figure size 640x480 with 1 Axes>"
      ]
     },
     "metadata": {},
     "output_type": "display_data"
    }
   ],
   "source": [
    "box=df.select_dtypes(int,float)\n",
    "box.boxplot()"
   ]
  },
  {
   "cell_type": "code",
   "execution_count": 55,
   "id": "1bb3d181-a7ea-4847-9af1-76d03164316f",
   "metadata": {},
   "outputs": [
    {
     "data": {
      "text/plain": [
       "SalePrice\n",
       "135000    33\n",
       "140000    28\n",
       "145000    23\n",
       "155000    22\n",
       "130000    22\n",
       "          ..\n",
       "96900      1\n",
       "166500     1\n",
       "81400      1\n",
       "133700     1\n",
       "150900     1\n",
       "Name: count, Length: 966, dtype: int64"
      ]
     },
     "execution_count": 55,
     "metadata": {},
     "output_type": "execute_result"
    }
   ],
   "source": [
    "df['SalePrice'].value_counts()"
   ]
  },
  {
   "cell_type": "code",
   "execution_count": 51,
   "id": "62ab4b1d-c2a8-46e7-b6ba-44f77ec3f1cd",
   "metadata": {},
   "outputs": [
    {
     "data": {
      "text/plain": [
       "(np.float64(130000.0), np.float64(215000.0))"
      ]
     },
     "execution_count": 51,
     "metadata": {},
     "output_type": "execute_result"
    }
   ],
   "source": [
    "q1=np.percentile(df['SalePrice'],25,method='midpoint')\n",
    "q3=np.percentile(df['SalePrice'],75,method='midpoint')\n",
    "q1,q3"
   ]
  },
  {
   "cell_type": "code",
   "execution_count": 53,
   "id": "1844db08-3b8a-4992-acc8-2ef71d4a7cad",
   "metadata": {},
   "outputs": [
    {
     "data": {
      "text/plain": [
       "np.float64(85000.0)"
      ]
     },
     "execution_count": 53,
     "metadata": {},
     "output_type": "execute_result"
    }
   ],
   "source": [
    "iqr=q3-q1\n",
    "iqr"
   ]
  },
  {
   "cell_type": "code",
   "execution_count": 54,
   "id": "24bbbdd7-d2c0-4e3c-8be5-972a7528785a",
   "metadata": {},
   "outputs": [
    {
     "data": {
      "text/plain": [
       "(np.float64(2500.0), np.float64(342500.0))"
      ]
     },
     "execution_count": 54,
     "metadata": {},
     "output_type": "execute_result"
    }
   ],
   "source": [
    "lower=q1-(1.5*iqr)\n",
    "upper=q3+(1.5*iqr)\n",
    "lower,upper"
   ]
  },
  {
   "cell_type": "code",
   "execution_count": 57,
   "id": "d46a485e-4e25-42bd-8a81-059441c6f40d",
   "metadata": {},
   "outputs": [
    {
     "name": "stdout",
     "output_type": "stream",
     "text": [
      "[394432, 376162, 395192, 611657, 500000, 355000, 410000, 362500, 378500, 345000, 377500, 375000, 501837, 372500, 462000, 485000, 555000, 398800, 404000, 402861, 451950, 610000, 582933, 360000, 350000, 386250, 445000, 552000, 382500, 403000, 468000, 370878, 410000, 425000, 355000, 387000, 394617, 426000, 385000, 446261, 372402, 417500, 383000, 390000, 460000, 379000, 615000, 412500, 421250, 370000, 367294, 370967, 350000, 350000, 372500, 475000, 395039, 381000, 392500, 370000, 377426, 349265, 392000, 441929, 455000, 356000, 345474, 415298, 492000, 450000, 479069, 395000, 380000, 440000, 418000, 500067, 372000, 354000, 350000, 745000, 384500, 466500, 410000, 430000, 419005, 383970, 424870, 360000, 359100, 375000, 392000, 457347, 356383, 556581, 361919, 535000, 401179, 438780, 412083, 342643, 465000, 415000, 345000, 344133, 360000, 372397, 378000, 374000, 348000, 405000, 350000, 584500, 405749, 375000, 369900, 359900] 116\n"
     ]
    }
   ],
   "source": [
    "outliers=[]\n",
    "for i in df['SalePrice']:\n",
    "    if i<lower or i>upper:\n",
    "        outliers.append(i)\n",
    "print(outliers,len(outliers))"
   ]
  },
  {
   "cell_type": "code",
   "execution_count": 58,
   "id": "a9189bee-1b70-4fc5-b6dd-767fd061372e",
   "metadata": {},
   "outputs": [
    {
     "data": {
      "text/plain": [
       "Index([  17,   36,   38,   44,   46,   60,   65,   91,  321,  343,\n",
       "       ...\n",
       "       2398, 2399, 2442, 2446, 2449, 2450, 2461, 2883, 2901, 2902],\n",
       "      dtype='int64', length=116)"
      ]
     },
     "execution_count": 58,
     "metadata": {},
     "output_type": "execute_result"
    }
   ],
   "source": [
    "outlier_index=df[df['SalePrice'].isin(outliers)].index\n",
    "outlier_index"
   ]
  },
  {
   "cell_type": "code",
   "execution_count": 59,
   "id": "3f67a3f6-c2a6-4469-a2c0-9467e2899d88",
   "metadata": {},
   "outputs": [
    {
     "name": "stderr",
     "output_type": "stream",
     "text": [
      "C:\\Users\\moham\\AppData\\Local\\Temp\\ipykernel_23156\\230856500.py:1: SettingWithCopyWarning: \n",
      "A value is trying to be set on a copy of a slice from a DataFrame\n",
      "\n",
      "See the caveats in the documentation: https://pandas.pydata.org/pandas-docs/stable/user_guide/indexing.html#returning-a-view-versus-a-copy\n",
      "  df.drop(outlier_index, inplace=True)\n"
     ]
    }
   ],
   "source": [
    "df.drop(outlier_index, inplace=True)"
   ]
  },
  {
   "cell_type": "code",
   "execution_count": 61,
   "id": "d22b49ba-4ad5-4b20-8931-1623003bd4fa",
   "metadata": {},
   "outputs": [
    {
     "data": {
      "text/plain": [
       "array([[<Axes: title={'center': 'MS SubClass'}>,\n",
       "        <Axes: title={'center': 'Lot Area'}>],\n",
       "       [<Axes: title={'center': 'SalePrice'}>, <Axes: >]], dtype=object)"
      ]
     },
     "execution_count": 61,
     "metadata": {},
     "output_type": "execute_result"
    },
    {
     "data": {
      "image/png": "[encoded data removed]",
      "text/plain": [
       "<Figure size 640x480 with 4 Axes>"
      ]
     },
     "metadata": {},
     "output_type": "display_data"
    }
   ],
   "source": [
    "box.hist()"
   ]
  },
  {
   "cell_type": "code",
   "execution_count": 62,
   "id": "7e5dc29d-9d4c-4e33-b808-9bd57fefa904",
   "metadata": {},
   "outputs": [
    {
     "data": {
      "text/plain": [
       "array([ 20,  60, 120,  50,  85,  80,  30,  90,  45,  70,  75,  40])"
      ]
     },
     "execution_count": 62,
     "metadata": {},
     "output_type": "execute_result"
    }
   ],
   "source": []
  },
  {
   "cell_type": "code",
   "execution_count": null,
   "id": "b342737d-d72c-4327-9ec3-cf1df592eaf1",
   "metadata": {},
   "outputs": [],
   "source": []
  }
 ],
 "metadata": {
  "kernelspec": {
   "display_name": "Python 3 (ipykernel)",
   "language": "python",
   "name": "python3"
  },
  "language_info": {
   "codemirror_mode": {
    "name": "ipython",
    "version": 3
   },
   "file_extension": ".py",
   "mimetype": "text/x-python",
   "name": "python",
   "nbconvert_exporter": "python",
   "pygments_lexer": "ipython3",
   "version": "3.13.5"
  }
 },
 "nbformat": 4,
 "nbformat_minor": 5
}
