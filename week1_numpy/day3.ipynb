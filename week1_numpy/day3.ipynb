{
 "cells": [
  {
   "cell_type": "markdown",
   "id": "ae7f8576",
   "metadata": {},
   "source": [
    "# Reshape, flatten, transpose. Functions: reshape(), ravel(), transpose()."
   ]
  },
  {
   "cell_type": "code",
   "execution_count": 1,
   "id": "26d2f50e",
   "metadata": {},
   "outputs": [],
   "source": [
    "import numpy as np"
   ]
  },
  {
   "cell_type": "markdown",
   "id": "da44b622",
   "metadata": {},
   "source": [
    "#### reshape()"
   ]
  },
  {
   "cell_type": "code",
   "execution_count": null,
   "id": "e3f016ea",
   "metadata": {},
   "outputs": [
    {
     "name": "stdout",
     "output_type": "stream",
     "text": [
      "[[1 2 3]\n",
      " [4 5 6]]\n",
      "2\n"
     ]
    }
   ],
   "source": [
    "arr = np.array([1,2,3,4,5,6])\n",
    "arr = arr.reshape(2,3)\n",
    "print(arr)\n",
    " "
   ]
  },
  {
   "cell_type": "markdown",
   "id": "4ae9f353",
   "metadata": {},
   "source": [
    "#### flatten()"
   ]
  },
  {
   "cell_type": "code",
   "execution_count": 7,
   "id": "7dee284e",
   "metadata": {},
   "outputs": [
    {
     "name": "stdout",
     "output_type": "stream",
     "text": [
      "[1 2 3 4 5 6]\n"
     ]
    }
   ],
   "source": [
    "arr = arr.flatten()\n",
    "print(arr)"
   ]
  },
  {
   "cell_type": "markdown",
   "id": "eb83e8aa",
   "metadata": {},
   "source": [
    "#### ravel()"
   ]
  },
  {
   "cell_type": "code",
   "execution_count": 11,
   "id": "e9e8be49",
   "metadata": {},
   "outputs": [
    {
     "name": "stdout",
     "output_type": "stream",
     "text": [
      "[ 1  2  3  4  5  6  7  8  9 10]\n",
      "\n",
      "[[ 1  2  3  4  5]\n",
      " [ 6  7  8  9 10]]\n",
      "[ 1  2  3  4  5  6  7  8  9 10]\n"
     ]
    }
   ],
   "source": [
    "arr1 = np.arange(1,11)\n",
    "print(arr1)\n",
    "print()\n",
    "arr1 = arr1.reshape(2,5)\n",
    "print(arr1)\n",
    "\n",
    "arr1 = arr1.ravel()\n",
    "print(arr1)"
   ]
  },
  {
   "cell_type": "markdown",
   "id": "261b582d",
   "metadata": {},
   "source": [
    "#### transpose()"
   ]
  },
  {
   "cell_type": "code",
   "execution_count": 14,
   "id": "69608a21",
   "metadata": {},
   "outputs": [
    {
     "name": "stdout",
     "output_type": "stream",
     "text": [
      "[[ 1  2  3  4  5]\n",
      " [ 6  7  8  9 10]]\n",
      "[[ 1  6]\n",
      " [ 2  7]\n",
      " [ 3  8]\n",
      " [ 4  9]\n",
      " [ 5 10]]\n"
     ]
    }
   ],
   "source": [
    "arr2 = np.arange(1,11).reshape(2,5)\n",
    "print(arr2)\n",
    "print(arr2.transpose())"
   ]
  },
  {
   "cell_type": "code",
   "execution_count": 16,
   "id": "33759d2d",
   "metadata": {},
   "outputs": [
    {
     "name": "stdout",
     "output_type": "stream",
     "text": [
      "[[[ 1  2  3  4]\n",
      "  [ 5  6  7  8]\n",
      "  [ 9 10 11 12]]\n",
      "\n",
      " [[13 14 15 16]\n",
      "  [17 18 19 20]\n",
      "  [21 22 23 24]]]\n"
     ]
    }
   ],
   "source": [
    "arr3 = np.arange(1,25).reshape(2,3,4)\n",
    "print(arr3)"
   ]
  },
  {
   "cell_type": "code",
   "execution_count": 19,
   "id": "0f973c62",
   "metadata": {},
   "outputs": [
    {
     "name": "stdout",
     "output_type": "stream",
     "text": [
      "[[[ 1 13]\n",
      "  [ 5 17]\n",
      "  [ 9 21]]\n",
      "\n",
      " [[ 2 14]\n",
      "  [ 6 18]\n",
      "  [10 22]]\n",
      "\n",
      " [[ 3 15]\n",
      "  [ 7 19]\n",
      "  [11 23]]\n",
      "\n",
      " [[ 4 16]\n",
      "  [ 8 20]\n",
      "  [12 24]]]\n",
      "(4, 3, 2)\n"
     ]
    }
   ],
   "source": [
    "t1 = arr3.transpose()\n",
    "print(t1)\n",
    "print(t1.shape)"
   ]
  },
  {
   "cell_type": "code",
   "execution_count": 20,
   "id": "c3083fa8",
   "metadata": {},
   "outputs": [
    {
     "name": "stdout",
     "output_type": "stream",
     "text": [
      "[[[ 1  5  9]\n",
      "  [ 2  6 10]\n",
      "  [ 3  7 11]\n",
      "  [ 4  8 12]]\n",
      "\n",
      " [[13 17 21]\n",
      "  [14 18 22]\n",
      "  [15 19 23]\n",
      "  [16 20 24]]]\n",
      "(2, 4, 3)\n"
     ]
    }
   ],
   "source": [
    "t2 = arr3.transpose(0,2,1)\n",
    "print(t2)\n",
    "print(t2.shape)"
   ]
  },
  {
   "cell_type": "markdown",
   "id": "70e18a89",
   "metadata": {},
   "source": [
    "#### Convert a 1D array into 2D (3×4)."
   ]
  },
  {
   "cell_type": "code",
   "execution_count": 24,
   "id": "c04975b8",
   "metadata": {},
   "outputs": [
    {
     "name": "stdout",
     "output_type": "stream",
     "text": [
      "[ 1  2  3  4  5  6  7  8  9 10 11 12]\n"
     ]
    }
   ],
   "source": [
    "a1 = np.arange(1,13)\n",
    "print(a1)"
   ]
  },
  {
   "cell_type": "code",
   "execution_count": null,
   "id": "31d9cbc9",
   "metadata": {},
   "outputs": [
    {
     "name": "stdout",
     "output_type": "stream",
     "text": [
      "[[ 1  2  3  4]\n",
      " [ 5  6  7  8]\n",
      " [ 9 10 11 12]]\n",
      "(3, 4)\n",
      "[ 1  2  3  4  5  6  7  8  9 10 11 12]\n"
     ]
    }
   ],
   "source": [
    "a2 = a1.reshape(3,4) \n",
    "print(a2)\n",
    "print(a2.shape)\n"
   ]
  },
  {
   "cell_type": "markdown",
   "id": "7f621dc0",
   "metadata": {},
   "source": [
    "#### Flatten a matrix into 1D."
   ]
  },
  {
   "cell_type": "code",
   "execution_count": 28,
   "id": "057714d3",
   "metadata": {},
   "outputs": [
    {
     "name": "stdout",
     "output_type": "stream",
     "text": [
      "[ 1  2  3  4  5  6  7  8  9 10 11 12]\n"
     ]
    }
   ],
   "source": [
    "a3 = a2.flatten()\n",
    "print(a3)"
   ]
  },
  {
   "cell_type": "markdown",
   "id": "6c9d0b72",
   "metadata": {},
   "source": [
    "#### Transpose a 2D array."
   ]
  },
  {
   "cell_type": "code",
   "execution_count": 29,
   "id": "8e9fb4fc",
   "metadata": {},
   "outputs": [
    {
     "name": "stdout",
     "output_type": "stream",
     "text": [
      "[[ 1  5  9]\n",
      " [ 2  6 10]\n",
      " [ 3  7 11]\n",
      " [ 4  8 12]]\n"
     ]
    }
   ],
   "source": [
    "a4 = a2.transpose()\n",
    "print(a4)"
   ]
  },
  {
   "cell_type": "markdown",
   "id": "d59f4436",
   "metadata": {},
   "source": [
    "#### Create an array of numbers 1–12 and reshape it into a 3×4 matrix"
   ]
  },
  {
   "cell_type": "code",
   "execution_count": 30,
   "id": "b9839b20",
   "metadata": {},
   "outputs": [
    {
     "name": "stdout",
     "output_type": "stream",
     "text": [
      "[[ 1  2  3  4]\n",
      " [ 5  6  7  8]\n",
      " [ 9 10 11 12]]\n"
     ]
    }
   ],
   "source": [
    "a5 = np.arange(1,13)\n",
    "print(a5.reshape(3,4))"
   ]
  },
  {
   "cell_type": "markdown",
   "id": "c49101d3",
   "metadata": {},
   "source": [
    "#### Transpose a 2×3 matrix into a 3×2 matrix."
   ]
  },
  {
   "cell_type": "code",
   "execution_count": 32,
   "id": "f95b2f58",
   "metadata": {},
   "outputs": [
    {
     "name": "stdout",
     "output_type": "stream",
     "text": [
      "[[1 2 3]\n",
      " [4 5 6]]\n",
      "[[1 4]\n",
      " [2 5]\n",
      " [3 6]]\n"
     ]
    }
   ],
   "source": [
    "a6 = np.arange(1,7).reshape(2,3)\n",
    "print(a6)\n",
    "print(a6.transpose())"
   ]
  },
  {
   "cell_type": "markdown",
   "id": "1c0a6d86",
   "metadata": {},
   "source": [
    "#### Reshape numbers 0–29 into a 6×5 matrix and extract the 3rd column."
   ]
  },
  {
   "cell_type": "code",
   "execution_count": 33,
   "id": "a6bcef4e",
   "metadata": {},
   "outputs": [
    {
     "name": "stdout",
     "output_type": "stream",
     "text": [
      "[ 0  1  2  3  4  5  6  7  8  9 10 11 12 13 14 15 16 17 18 19 20 21 22 23\n",
      " 24 25 26 27 28 29]\n",
      "\n",
      "[[ 0  1  2  3  4]\n",
      " [ 5  6  7  8  9]\n",
      " [10 11 12 13 14]\n",
      " [15 16 17 18 19]\n",
      " [20 21 22 23 24]\n",
      " [25 26 27 28 29]]\n"
     ]
    }
   ],
   "source": [
    "a7 = np.arange(30)\n",
    "print(a7)\n",
    "a8 = a7.reshape(6,5)\n",
    "print()\n",
    "print(a8)"
   ]
  },
  {
   "cell_type": "code",
   "execution_count": 35,
   "id": "a8c4611f",
   "metadata": {},
   "outputs": [
    {
     "name": "stdout",
     "output_type": "stream",
     "text": [
      "[ 2  7 12 17 22 27]\n"
     ]
    }
   ],
   "source": [
    "print(a8[:, 2])"
   ]
  },
  {
   "cell_type": "markdown",
   "id": "ff7a5506",
   "metadata": {},
   "source": [
    "#### Flatten a 3×3 matrix and sort elements in descending order."
   ]
  },
  {
   "cell_type": "code",
   "execution_count": 53,
   "id": "fefb1d50",
   "metadata": {},
   "outputs": [
    {
     "name": "stdout",
     "output_type": "stream",
     "text": [
      "[[23 26 39]\n",
      " [23 35 25]\n",
      " [10 37 31]]\n",
      "[23 26 39 23 35 25 10 37 31]\n",
      "[10 23 23 25 26 31 35 37 39]\n"
     ]
    }
   ],
   "source": [
    "a9 = np.random.randint(1,50,(3,3))\n",
    "print(a9)\n",
    "a10 = a9.flatten()\n",
    "print(a10)\n",
    "print(np.sort(a10[::-1]))\n"
   ]
  },
  {
   "cell_type": "markdown",
   "id": "fbccaa3c",
   "metadata": {},
   "source": [
    "#### Create an 8×8 checkerboard pattern using only zeros() and slicing.\n"
   ]
  },
  {
   "cell_type": "code",
   "execution_count": 60,
   "id": "f4c74e57",
   "metadata": {},
   "outputs": [
    {
     "name": "stdout",
     "output_type": "stream",
     "text": [
      "[[0. 0. 0. 0. 0. 0. 0. 0.]\n",
      " [0. 0. 0. 0. 0. 0. 0. 0.]\n",
      " [0. 0. 0. 0. 0. 0. 0. 0.]\n",
      " [0. 0. 0. 0. 0. 0. 0. 0.]\n",
      " [0. 0. 0. 0. 0. 0. 0. 0.]\n",
      " [0. 0. 0. 0. 0. 0. 0. 0.]\n",
      " [0. 0. 0. 0. 0. 0. 0. 0.]\n",
      " [0. 0. 0. 0. 0. 0. 0. 0.]]\n",
      "\n",
      "[[0. 1. 0. 1. 0. 1. 0. 1.]\n",
      " [0. 1. 0. 1. 0. 1. 0. 1.]\n",
      " [0. 1. 0. 1. 0. 1. 0. 1.]\n",
      " [0. 1. 0. 1. 0. 1. 0. 1.]\n",
      " [0. 1. 0. 1. 0. 1. 0. 1.]\n",
      " [0. 1. 0. 1. 0. 1. 0. 1.]\n",
      " [0. 1. 0. 1. 0. 1. 0. 1.]\n",
      " [0. 1. 0. 1. 0. 1. 0. 1.]]\n"
     ]
    }
   ],
   "source": [
    "a11 = np.zeros((8,8))\n",
    "print(a11)\n",
    "print()\n",
    "a11[:, 1::2] = 1\n",
    "print(a11)"
   ]
  },
  {
   "cell_type": "code",
   "execution_count": null,
   "id": "91df1693",
   "metadata": {},
   "outputs": [],
   "source": []
  }
 ],
 "metadata": {
  "kernelspec": {
   "display_name": "Python 3",
   "language": "python",
   "name": "python3"
  },
  "language_info": {
   "codemirror_mode": {
    "name": "ipython",
    "version": 3
   },
   "file_extension": ".py",
   "mimetype": "text/x-python",
   "name": "python",
   "nbconvert_exporter": "python",
   "pygments_lexer": "ipython3",
   "version": "3.13.5"
  }
 },
 "nbformat": 4,
 "nbformat_minor": 5
}
