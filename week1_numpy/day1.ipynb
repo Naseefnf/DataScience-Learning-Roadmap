{
 "cells": [
  {
   "cell_type": "markdown",
   "id": "d1ebfcf4",
   "metadata": {},
   "source": [
    "# Create 1D, 2D arrays with array() and arange()."
   ]
  },
  {
   "cell_type": "markdown",
   "id": "cc70d0d4",
   "metadata": {},
   "source": [
    "## Using numpy array"
   ]
  },
  {
   "cell_type": "code",
   "execution_count": 2,
   "id": "60ff7872",
   "metadata": {},
   "outputs": [],
   "source": [
    "import numpy as np"
   ]
  },
  {
   "cell_type": "code",
   "execution_count": 5,
   "id": "73d073d2",
   "metadata": {},
   "outputs": [
    {
     "name": "stdout",
     "output_type": "stream",
     "text": [
      "[1 2 3 4 5]\n"
     ]
    }
   ],
   "source": [
    "arr1=np.array([1,2,3,4,5])\n",
    "print(arr1)"
   ]
  },
  {
   "cell_type": "code",
   "execution_count": 6,
   "id": "73065084",
   "metadata": {},
   "outputs": [
    {
     "name": "stdout",
     "output_type": "stream",
     "text": [
      "[[1 2 3]\n",
      " [4 5 6]\n",
      " [7 8 9]]\n"
     ]
    }
   ],
   "source": [
    "arr2=np.array([\n",
    "    [1,2,3],\n",
    "    [4,5,6],\n",
    "    [7,8,9] \n",
    "])\n",
    "print(arr2)"
   ]
  },
  {
   "cell_type": "code",
   "execution_count": 10,
   "id": "8384c96f",
   "metadata": {},
   "outputs": [
    {
     "name": "stdout",
     "output_type": "stream",
     "text": [
      "<class 'numpy.ndarray'>\n",
      "2\n",
      "(3, 3)\n"
     ]
    }
   ],
   "source": [
    "print(type(arr2))\n",
    "print(arr2.ndim)\n",
    "print(arr2.shape)"
   ]
  },
  {
   "cell_type": "markdown",
   "id": "ef0eb044",
   "metadata": {},
   "source": [
    "## using numpy arange()"
   ]
  },
  {
   "cell_type": "code",
   "execution_count": 12,
   "id": "5b5dc985",
   "metadata": {},
   "outputs": [
    {
     "name": "stdout",
     "output_type": "stream",
     "text": [
      "[ 1  2  3  4  5  6  7  8  9 10]\n"
     ]
    }
   ],
   "source": [
    "arr3=np.arange(1,11)\n",
    "print(arr3)"
   ]
  },
  {
   "cell_type": "code",
   "execution_count": 15,
   "id": "2dea3a68",
   "metadata": {},
   "outputs": [
    {
     "data": {
      "text/plain": [
       "array([[ 1,  2,  3,  4,  5],\n",
       "       [ 6,  7,  8,  9, 10]])"
      ]
     },
     "execution_count": 15,
     "metadata": {},
     "output_type": "execute_result"
    }
   ],
   "source": [
    "arr3.reshape(2,5)"
   ]
  },
  {
   "cell_type": "markdown",
   "id": "1ab7cf49",
   "metadata": {},
   "source": [
    "## Generate arrays of zeros/ones."
   ]
  },
  {
   "cell_type": "code",
   "execution_count": 17,
   "id": "3a144925",
   "metadata": {},
   "outputs": [
    {
     "name": "stdout",
     "output_type": "stream",
     "text": [
      "[[0. 0. 0.]\n",
      " [0. 0. 0.]]\n"
     ]
    }
   ],
   "source": [
    "print(np.zeros((2,3)))"
   ]
  },
  {
   "cell_type": "code",
   "execution_count": 18,
   "id": "7ef6b2bc",
   "metadata": {},
   "outputs": [
    {
     "name": "stdout",
     "output_type": "stream",
     "text": [
      "[[1. 1. 1. 1. 1.]\n",
      " [1. 1. 1. 1. 1.]\n",
      " [1. 1. 1. 1. 1.]\n",
      " [1. 1. 1. 1. 1.]]\n"
     ]
    }
   ],
   "source": [
    "print(np.ones((4,5)))"
   ]
  },
  {
   "cell_type": "markdown",
   "id": "c4902790",
   "metadata": {},
   "source": [
    "## Check array shape, size, and dtype."
   ]
  },
  {
   "cell_type": "code",
   "execution_count": 23,
   "id": "9ae8eb58",
   "metadata": {},
   "outputs": [
    {
     "name": "stdout",
     "output_type": "stream",
     "text": [
      "[[1 2 3]\n",
      " [4 5 6]\n",
      " [7 8 9]]\n",
      "(3, 3)\n",
      "9\n",
      "int64\n"
     ]
    }
   ],
   "source": [
    "print(arr2)\n",
    "print(arr2.shape)\n",
    "print(arr2.size)\n",
    "print(arr2.dtype)"
   ]
  },
  {
   "cell_type": "markdown",
   "id": "d6933528",
   "metadata": {},
   "source": [
    "## Create a NumPy array of numbers 1–10."
   ]
  },
  {
   "cell_type": "code",
   "execution_count": 25,
   "id": "3b308e46",
   "metadata": {},
   "outputs": [
    {
     "name": "stdout",
     "output_type": "stream",
     "text": [
      "[ 1  2  3  4  5  6  7  8  9 10]\n"
     ]
    }
   ],
   "source": [
    "ar5=np.arange(1,11)\n",
    "print(ar5)"
   ]
  },
  {
   "cell_type": "markdown",
   "id": "b14ed225",
   "metadata": {
    "vscode": {
     "languageId": "bat"
    }
   },
   "source": [
    "## Generate an array of even numbers between 20 and 40."
   ]
  },
  {
   "cell_type": "code",
   "execution_count": 26,
   "id": "da63395a",
   "metadata": {},
   "outputs": [
    {
     "name": "stdout",
     "output_type": "stream",
     "text": [
      "[20 22 24 26 28 30 32 34 36 38 40]\n"
     ]
    }
   ],
   "source": [
    "ar6 = np.arange(20,41,2)\n",
    "print(ar6)"
   ]
  },
  {
   "cell_type": "markdown",
   "id": "1a16df36",
   "metadata": {},
   "source": [
    "## Create an array of 20 random integers (1–50) and extract only the odd numbers."
   ]
  },
  {
   "cell_type": "code",
   "execution_count": 27,
   "id": "9e856c58",
   "metadata": {},
   "outputs": [
    {
     "name": "stdout",
     "output_type": "stream",
     "text": [
      "[29 45 49 47 41 29 41 27]\n"
     ]
    }
   ],
   "source": [
    "ar7 = np.random.randint(20,51,20)\n",
    "od = ar7[ar7%2 != 0]\n",
    "print(od)"
   ]
  },
  {
   "cell_type": "markdown",
   "id": "dbde6807",
   "metadata": {},
   "source": [
    "## Compare memory usage of a Python list vs a NumPy array with 1000 element"
   ]
  },
  {
   "cell_type": "code",
   "execution_count": 28,
   "id": "cb88be5a",
   "metadata": {},
   "outputs": [
    {
     "name": "stdout",
     "output_type": "stream",
     "text": [
      "List size: 36056\n",
      "NumPy array size: 4000\n"
     ]
    }
   ],
   "source": [
    "import sys\n",
    "\n",
    "\n",
    "py_list = list(range(1000))\n",
    "print(\"List size:\", sys.getsizeof(py_list) + sum(sys.getsizeof(i) for i in py_list))\n",
    "\n",
    "\n",
    "np_array = np.arange(1000, dtype=np.int32)\n",
    "print(\"NumPy array size:\", np_array.nbytes)\n"
   ]
  },
  {
   "cell_type": "markdown",
   "id": "08b26f6d",
   "metadata": {},
   "source": [
    "## Reshape a NumPy array of numbers 1–36 into a 6×6 matrix."
   ]
  },
  {
   "cell_type": "code",
   "execution_count": 4,
   "id": "aef3833e",
   "metadata": {},
   "outputs": [
    {
     "name": "stdout",
     "output_type": "stream",
     "text": [
      "[ 1  2  3  4  5  6  7  8  9 10 11 12 13 14 15 16 17 18 19 20 21 22 23 24\n",
      " 25 26 27 28 29 30 31 32 33 34 35 36]\n",
      "[[ 1  2  3  4  5  6]\n",
      " [ 7  8  9 10 11 12]\n",
      " [13 14 15 16 17 18]\n",
      " [19 20 21 22 23 24]\n",
      " [25 26 27 28 29 30]\n",
      " [31 32 33 34 35 36]]\n"
     ]
    }
   ],
   "source": [
    "ar8 = np.arange(1,37)\n",
    "print(ar8)\n",
    "ar9 = ar8.reshape(6,6)\n",
    "print(ar9)"
   ]
  },
  {
   "cell_type": "code",
   "execution_count": null,
   "id": "43d01d8a",
   "metadata": {},
   "outputs": [],
   "source": []
  }
 ],
 "metadata": {
  "kernelspec": {
   "display_name": "Python 3",
   "language": "python",
   "name": "python3"
  },
  "language_info": {
   "codemirror_mode": {
    "name": "ipython",
    "version": 3
   },
   "file_extension": ".py",
   "mimetype": "text/x-python",
   "name": "python",
   "nbconvert_exporter": "python",
   "pygments_lexer": "ipython3",
   "version": "3.13.5"
  }
 },
 "nbformat": 4,
 "nbformat_minor": 5
}
