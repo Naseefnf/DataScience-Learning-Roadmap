{
 "cells": [
  {
   "cell_type": "markdown",
   "id": "40be78a9",
   "metadata": {},
   "source": [
    "# Random array generation, statistical and math functions. Functions: random.rand(), random.randint(), mean(), sum()."
   ]
  },
  {
   "cell_type": "code",
   "execution_count": 1,
   "id": "c60cef81",
   "metadata": {},
   "outputs": [],
   "source": [
    "import numpy as np"
   ]
  },
  {
   "cell_type": "markdown",
   "id": "aeef6b1e",
   "metadata": {},
   "source": [
    "#### random.rand(), random.randint()"
   ]
  },
  {
   "cell_type": "code",
   "execution_count": 4,
   "id": "cd50bdb0",
   "metadata": {},
   "outputs": [
    {
     "name": "stdout",
     "output_type": "stream",
     "text": [
      "[[0.30040334 0.17461763 0.97260562 0.41918625 0.37629914]\n",
      " [0.82916477 0.5836255  0.81962989 0.29959809 0.86933333]\n",
      " [0.72937532 0.78266238 0.95276784 0.65311239 0.51597698]]\n"
     ]
    }
   ],
   "source": [
    "a = np.random.rand(3,5)\n",
    "print(a)"
   ]
  },
  {
   "cell_type": "markdown",
   "id": "ba6b5e81",
   "metadata": {},
   "source": [
    "to get random float values between 1 and 20"
   ]
  },
  {
   "cell_type": "code",
   "execution_count": 5,
   "id": "31ca5cbf",
   "metadata": {},
   "outputs": [
    {
     "name": "stdout",
     "output_type": "stream",
     "text": [
      "[17.01889689  7.86969296 11.95946733 17.12251906  5.5211552  12.38536466\n",
      "  1.91487478 15.66376473 14.85018617  1.90791652]\n"
     ]
    }
   ],
   "source": [
    "nums = 1 + (20-1)*np.random.rand(10)\n",
    "print(nums)"
   ]
  },
  {
   "cell_type": "code",
   "execution_count": 6,
   "id": "802d2bec",
   "metadata": {},
   "outputs": [
    {
     "name": "stdout",
     "output_type": "stream",
     "text": [
      "[[14 21 15 28  2]\n",
      " [21  7  4  3 24]\n",
      " [12 11 20 12 18]\n",
      " [12 11  2  7 10]\n",
      " [ 6 26  7 22  7]\n",
      " [12 29  4 29 10]]\n"
     ]
    }
   ],
   "source": [
    "a1 = np.random.randint(1,31,(6,5))\n",
    "print(a1)"
   ]
  },
  {
   "cell_type": "code",
   "execution_count": 7,
   "id": "da9d9002",
   "metadata": {},
   "outputs": [
    {
     "name": "stdout",
     "output_type": "stream",
     "text": [
      "[0.81178594 0.50945836 0.99586733 0.53968978 0.86568014 0.76174368\n",
      " 0.84330496 0.7820057  0.86592818 0.97718881]\n"
     ]
    }
   ],
   "source": [
    "# Draw 10 samples from a power distribution with exponent 5\n",
    "samples = np.random.power(5, 10)\n",
    "print(samples)"
   ]
  },
  {
   "cell_type": "markdown",
   "id": "9558cd00",
   "metadata": {},
   "source": [
    "#### mean(), sum()"
   ]
  },
  {
   "cell_type": "code",
   "execution_count": 9,
   "id": "4ab6eec9",
   "metadata": {},
   "outputs": [
    {
     "name": "stdout",
     "output_type": "stream",
     "text": [
      "10\n"
     ]
    }
   ],
   "source": [
    "a3 = np.array([1,2,3,4])\n",
    "print(np.sum(a3))"
   ]
  },
  {
   "cell_type": "code",
   "execution_count": 10,
   "id": "a4e5b474",
   "metadata": {},
   "outputs": [
    {
     "name": "stdout",
     "output_type": "stream",
     "text": [
      "2.5\n"
     ]
    }
   ],
   "source": [
    "print(np.mean(a3))"
   ]
  },
  {
   "cell_type": "code",
   "execution_count": 11,
   "id": "236f81f4",
   "metadata": {},
   "outputs": [
    {
     "name": "stdout",
     "output_type": "stream",
     "text": [
      "24\n"
     ]
    }
   ],
   "source": [
    "print(np.prod(a3))"
   ]
  },
  {
   "cell_type": "code",
   "execution_count": 12,
   "id": "5f59b1ea",
   "metadata": {},
   "outputs": [
    {
     "name": "stdout",
     "output_type": "stream",
     "text": [
      "[ 1  3  6 10]\n"
     ]
    }
   ],
   "source": [
    "print(np.cumsum(a3))"
   ]
  },
  {
   "cell_type": "code",
   "execution_count": 13,
   "id": "9ccf0066",
   "metadata": {},
   "outputs": [
    {
     "name": "stdout",
     "output_type": "stream",
     "text": [
      "[ 1  2  6 24]\n"
     ]
    }
   ],
   "source": [
    "print(np.cumprod(a3))"
   ]
  },
  {
   "cell_type": "markdown",
   "id": "d4e33c89",
   "metadata": {},
   "source": [
    "#### Generate random integers (1–100)."
   ]
  },
  {
   "cell_type": "code",
   "execution_count": 14,
   "id": "a7208b96",
   "metadata": {},
   "outputs": [
    {
     "name": "stdout",
     "output_type": "stream",
     "text": [
      "[[ 79  67  21  97  67  64  77  85  92  67]\n",
      " [ 14  85  79  57  73   9   9  26  34  42]\n",
      " [ 67  87  71  95  56   2  32  45  21  72]\n",
      " [ 16  25  24  83  16  28  69  32  73  24]\n",
      " [ 12  13  17  40  46  96  78  21  18  95]\n",
      " [  4  49  86  58  10  57  20  66  48  73]\n",
      " [ 97  12  52  14  92  70   5  46  47  50]\n",
      " [ 25   7  12   8  36  32  29  69  24  23]\n",
      " [ 62  51  60  60   1  42  71  54  68  24]\n",
      " [ 34  86  15  33  18  11  75  75 100  61]]\n"
     ]
    }
   ],
   "source": [
    "rand100 = np.random.randint(1,101,(10,10))\n",
    "print(rand100)"
   ]
  },
  {
   "cell_type": "markdown",
   "id": "b663d529",
   "metadata": {},
   "source": [
    "#### Compute sum, mean, standard deviation."
   ]
  },
  {
   "cell_type": "code",
   "execution_count": 15,
   "id": "f2ef18e4",
   "metadata": {},
   "outputs": [
    {
     "name": "stdout",
     "output_type": "stream",
     "text": [
      "4740\n"
     ]
    }
   ],
   "source": [
    "print(np.sum(rand100))"
   ]
  },
  {
   "cell_type": "code",
   "execution_count": 16,
   "id": "2a60650d",
   "metadata": {},
   "outputs": [
    {
     "name": "stdout",
     "output_type": "stream",
     "text": [
      "47.4\n"
     ]
    }
   ],
   "source": [
    "print(np.mean(rand100))"
   ]
  },
  {
   "cell_type": "code",
   "execution_count": 17,
   "id": "504288a1",
   "metadata": {},
   "outputs": [
    {
     "name": "stdout",
     "output_type": "stream",
     "text": [
      "28.347133893923033\n"
     ]
    }
   ],
   "source": [
    "print(np.std(rand100))"
   ]
  },
  {
   "cell_type": "markdown",
   "id": "c87c81d3",
   "metadata": {},
   "source": [
    "#### Create an identity matrix with eye()."
   ]
  },
  {
   "cell_type": "code",
   "execution_count": 21,
   "id": "ebc5efae",
   "metadata": {},
   "outputs": [
    {
     "name": "stdout",
     "output_type": "stream",
     "text": [
      "[[1 0 0 0]\n",
      " [0 1 0 0]\n",
      " [0 0 1 0]\n",
      " [0 0 0 1]]\n"
     ]
    }
   ],
   "source": [
    "ident = np.eye(4,4, dtype=int)\n",
    "print(ident)"
   ]
  },
  {
   "cell_type": "markdown",
   "id": "d462552c",
   "metadata": {},
   "source": [
    "#### Generate 5 random integers between 1 and 20."
   ]
  },
  {
   "cell_type": "code",
   "execution_count": 22,
   "id": "1a2dcdc8",
   "metadata": {},
   "outputs": [
    {
     "name": "stdout",
     "output_type": "stream",
     "text": [
      "[ 6 11  2  6  8]\n"
     ]
    }
   ],
   "source": [
    "randinteger = np.random.randint(1,21,5)\n",
    "print(randinteger)"
   ]
  },
  {
   "cell_type": "markdown",
   "id": "c81ebe1f",
   "metadata": {},
   "source": [
    "#### Create a 5×5 random integer matrix and find its mean and standard deviation."
   ]
  },
  {
   "cell_type": "code",
   "execution_count": 24,
   "id": "bc0583cd",
   "metadata": {},
   "outputs": [
    {
     "name": "stdout",
     "output_type": "stream",
     "text": [
      "[[14 73 58 33 76]\n",
      " [74 96 49 42 55]\n",
      " [94 43 36 34  7]\n",
      " [51 87 52 82 98]\n",
      " [54 52 18 45 67]]\n"
     ]
    }
   ],
   "source": [
    "rand5x5 = np.random.randint(1,100,(5,5))\n",
    "print(rand5x5)"
   ]
  },
  {
   "cell_type": "code",
   "execution_count": 25,
   "id": "1bca044f",
   "metadata": {},
   "outputs": [
    {
     "name": "stdout",
     "output_type": "stream",
     "text": [
      "55.6\n"
     ]
    }
   ],
   "source": [
    "print(np.mean(rand5x5))"
   ]
  },
  {
   "cell_type": "code",
   "execution_count": 26,
   "id": "08efc8c6",
   "metadata": {},
   "outputs": [
    {
     "name": "stdout",
     "output_type": "stream",
     "text": [
      "24.656033744298778\n"
     ]
    }
   ],
   "source": [
    "print(np.std(rand5x5))"
   ]
  },
  {
   "cell_type": "markdown",
   "id": "6e4ab7d2",
   "metadata": {},
   "source": [
    "#### Find the most frequent number in a random array of 100 integers (0–10).\n"
   ]
  },
  {
   "cell_type": "code",
   "execution_count": 28,
   "id": "0f4c225e",
   "metadata": {},
   "outputs": [
    {
     "name": "stdout",
     "output_type": "stream",
     "text": [
      "[ 9 10  9  6  9  3  4  5  7  9  6  5  6  3  4  3  7 10  4  8  2  6  3 10\n",
      "  5  3  2  7  7  8  5  8  9  6 10  7  1  9  9  6  3 10  2 10  7  6  5  7\n",
      "  2  8  7 10  7  4  5  7  4  8  7  1  8  1  9  6  4  4  2  1 10  8  4  6\n",
      "  8  8  1  7  3 10 10 10  4 10  9  3  3  4  4  8  8  9  4  7  8  8  5  8\n",
      "  6  7  1  1]\n"
     ]
    }
   ],
   "source": [
    "arr1 = np.random.randint(1,11,100)\n",
    "print(arr1)"
   ]
  },
  {
   "cell_type": "code",
   "execution_count": 29,
   "id": "e22e5e43",
   "metadata": {},
   "outputs": [
    {
     "name": "stdout",
     "output_type": "stream",
     "text": [
      "[ 1  2  3  4  5  6  7  8  9 10]\n",
      "[ 7  5  9 12  7 10 14 14 10 12]\n"
     ]
    }
   ],
   "source": [
    "values, count = np.unique(arr1, return_counts=True)\n",
    "print(values)\n",
    "print(count)"
   ]
  },
  {
   "cell_type": "code",
   "execution_count": 32,
   "id": "05b3ee5d",
   "metadata": {},
   "outputs": [
    {
     "name": "stdout",
     "output_type": "stream",
     "text": [
      "14\n"
     ]
    }
   ],
   "source": [
    "max_count = count.max()\n",
    "print(max_count)"
   ]
  },
  {
   "cell_type": "code",
   "execution_count": 35,
   "id": "bd1bc25f",
   "metadata": {},
   "outputs": [
    {
     "name": "stdout",
     "output_type": "stream",
     "text": [
      "Most frequent: [7 8] appearing 14 times\n"
     ]
    }
   ],
   "source": [
    "most_freq = values[count == max_count]\n",
    "print(\"Most frequent:\", most_freq, \"appearing\", max_count, \"times\")"
   ]
  },
  {
   "cell_type": "markdown",
   "id": "3ca280b6",
   "metadata": {},
   "source": [
    "#### Normalize a 4×4 random integer array (scale values between 0 and 1).\n"
   ]
  },
  {
   "cell_type": "code",
   "execution_count": 40,
   "id": "9153390b",
   "metadata": {},
   "outputs": [
    {
     "name": "stdout",
     "output_type": "stream",
     "text": [
      "[[ 4  1 19 10]\n",
      " [ 6 14 24  6]\n",
      " [15  3  1 11]\n",
      " [26  9  6 11]]\n"
     ]
    }
   ],
   "source": [
    "arr = np.random.randint(1,30,(4,4))\n",
    "print(arr)"
   ]
  },
  {
   "cell_type": "markdown",
   "id": "a70cbe81",
   "metadata": {},
   "source": [
    "min-max normalization"
   ]
  },
  {
   "cell_type": "code",
   "execution_count": 41,
   "id": "efcc838b",
   "metadata": {},
   "outputs": [],
   "source": [
    "min_val = arr.min()\n",
    "max_val = arr.max()"
   ]
  },
  {
   "cell_type": "code",
   "execution_count": 42,
   "id": "e32b0736",
   "metadata": {},
   "outputs": [
    {
     "name": "stdout",
     "output_type": "stream",
     "text": [
      "[[0.12 0.   0.72 0.36]\n",
      " [0.2  0.52 0.92 0.2 ]\n",
      " [0.56 0.08 0.   0.4 ]\n",
      " [1.   0.32 0.2  0.4 ]]\n"
     ]
    }
   ],
   "source": [
    "normarr = (arr - min_val) / (max_val - min_val)\n",
    "print(normarr)"
   ]
  },
  {
   "cell_type": "markdown",
   "id": "c92c65f5",
   "metadata": {},
   "source": [
    "#### Create two random 3×3 matrices and perform matrix multiplication.\""
   ]
  },
  {
   "cell_type": "code",
   "execution_count": 45,
   "id": "ccc41fc7",
   "metadata": {},
   "outputs": [
    {
     "name": "stdout",
     "output_type": "stream",
     "text": [
      "[[1 8 4]\n",
      " [6 6 9]\n",
      " [1 5 6]]\n",
      "\n",
      "[[3 3 6]\n",
      " [6 2 8]\n",
      " [4 9 1]]\n"
     ]
    }
   ],
   "source": [
    "a = np.random.randint(1,10,(3,3))\n",
    "b = np.random.randint(1,10,(3,3))\n",
    "print(a)\n",
    "print()\n",
    "print(b)"
   ]
  },
  {
   "cell_type": "code",
   "execution_count": 46,
   "id": "d6abcbf2",
   "metadata": {},
   "outputs": [
    {
     "name": "stdout",
     "output_type": "stream",
     "text": [
      "[[ 3 24 24]\n",
      " [36 12 72]\n",
      " [ 4 45  6]]\n"
     ]
    }
   ],
   "source": [
    "multiarr = np.multiply(a,b)\n",
    "print(multiarr)"
   ]
  },
  {
   "cell_type": "code",
   "execution_count": null,
   "id": "03e48a78",
   "metadata": {},
   "outputs": [],
   "source": []
  }
 ],
 "metadata": {
  "kernelspec": {
   "display_name": "Python 3",
   "language": "python",
   "name": "python3"
  },
  "language_info": {
   "codemirror_mode": {
    "name": "ipython",
    "version": 3
   },
   "file_extension": ".py",
   "mimetype": "text/x-python",
   "name": "python",
   "nbconvert_exporter": "python",
   "pygments_lexer": "ipython3",
   "version": "3.13.5"
  }
 },
 "nbformat": 4,
 "nbformat_minor": 5
}
