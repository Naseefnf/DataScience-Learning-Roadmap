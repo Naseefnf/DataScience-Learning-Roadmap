{
 "cells": [
  {
   "cell_type": "code",
   "execution_count": 1,
   "id": "7ab3c521",
   "metadata": {},
   "outputs": [],
   "source": [
    "import numpy as np"
   ]
  },
  {
   "cell_type": "markdown",
   "id": "4e0f50e6",
   "metadata": {},
   "source": [
    " Create a 1D NumPy array with 15 evenly spaced numbers between 5 and 25.\n"
   ]
  },
  {
   "cell_type": "code",
   "execution_count": 31,
   "id": "967123b1",
   "metadata": {},
   "outputs": [
    {
     "name": "stdout",
     "output_type": "stream",
     "text": [
      "[ 5  6  8  9 11 12 14 15 17 18 20 21 23 24 26]\n"
     ]
    }
   ],
   "source": [
    "arr = np.linspace(5,26,15, dtype=int)\n",
    "print(arr)"
   ]
  },
  {
   "cell_type": "markdown",
   "id": "3e9de7ac",
   "metadata": {},
   "source": [
    "Generate a 4x4 matrix filled with random integers between 50 and 100.\n"
   ]
  },
  {
   "cell_type": "code",
   "execution_count": 3,
   "id": "23c949f1",
   "metadata": {},
   "outputs": [
    {
     "name": "stdout",
     "output_type": "stream",
     "text": [
      "[[53 97 66 61]\n",
      " [60 96 69 73]\n",
      " [96 68 76 90]\n",
      " [96 53 51 65]]\n"
     ]
    }
   ],
   "source": [
    "arr2 = np.random.randint(50,100,(4,4))\n",
    "print(arr2)"
   ]
  },
  {
   "cell_type": "markdown",
   "id": "58740f5a",
   "metadata": {},
   "source": [
    "Create a NumPy array of ones with a shape of (3, 4).\n"
   ]
  },
  {
   "cell_type": "code",
   "execution_count": 6,
   "id": "10a619a1",
   "metadata": {},
   "outputs": [
    {
     "name": "stdout",
     "output_type": "stream",
     "text": [
      "[[1 1 1 1]\n",
      " [1 1 1 1]\n",
      " [1 1 1 1]\n",
      " [1 1 1 1]]\n"
     ]
    }
   ],
   "source": [
    "arr3 = np.ones((4,4), dtype=int)\n",
    "print(arr3)"
   ]
  },
  {
   "cell_type": "markdown",
   "id": "2481b294",
   "metadata": {},
   "source": [
    "Create a 1D array of 10 random numbers and multiply each element by 2.\n"
   ]
  },
  {
   "cell_type": "code",
   "execution_count": 7,
   "id": "006dd1a5",
   "metadata": {},
   "outputs": [
    {
     "name": "stdout",
     "output_type": "stream",
     "text": [
      "[18  7  6 19  3 11  9 12 19  5]\n",
      "[36 14 12 38  6 22 18 24 38 10]\n"
     ]
    }
   ],
   "source": [
    "arr4 = np.random.randint(1,20,10)\n",
    "print(arr4)\n",
    "print(arr4*2)"
   ]
  },
  {
   "cell_type": "markdown",
   "id": "253f5386",
   "metadata": {},
   "source": [
    " Generate a 2D array of shape (6, 3) filled with random floating-point numbers between 0 and 1.\n"
   ]
  },
  {
   "cell_type": "code",
   "execution_count": 9,
   "id": "f0138386",
   "metadata": {},
   "outputs": [
    {
     "name": "stdout",
     "output_type": "stream",
     "text": [
      "[[0.51024996 0.17192135 0.60431731]\n",
      " [0.94389886 0.94732376 0.03094633]\n",
      " [0.93013675 0.55493333 0.57769755]\n",
      " [0.62403973 0.86377685 0.13583788]\n",
      " [0.24286692 0.16094467 0.32858044]\n",
      " [0.36738216 0.28303576 0.75040875]]\n"
     ]
    }
   ],
   "source": [
    "sixbythree = np.random.rand(6,3)\n",
    "print(sixbythree)"
   ]
  },
  {
   "cell_type": "markdown",
   "id": "4a1c3749",
   "metadata": {},
   "source": [
    "Given the array arr = np.arange(1, 21).reshape(5, 4)\n",
    "   - The first column\n",
    " \n",
    "   - The third row\n",
    "   \n",
    "   - A sub-matrix consisting of rows 2 and 3, and columns 1 to 2"
   ]
  },
  {
   "cell_type": "code",
   "execution_count": 10,
   "id": "3d2657c2",
   "metadata": {},
   "outputs": [
    {
     "name": "stdout",
     "output_type": "stream",
     "text": [
      "[[ 1  2  3  4]\n",
      " [ 5  6  7  8]\n",
      " [ 9 10 11 12]\n",
      " [13 14 15 16]\n",
      " [17 18 19 20]]\n"
     ]
    }
   ],
   "source": [
    "arr = np.arange(1, 21).reshape(5, 4)\n",
    "print(arr)"
   ]
  },
  {
   "cell_type": "code",
   "execution_count": 13,
   "id": "895555c0",
   "metadata": {},
   "outputs": [
    {
     "name": "stdout",
     "output_type": "stream",
     "text": [
      "first col:\n",
      " [[ 1]\n",
      " [ 5]\n",
      " [ 9]\n",
      " [13]\n",
      " [17]]\n"
     ]
    }
   ],
   "source": [
    "print(\"first col:\\n\",arr[:, :1])"
   ]
  },
  {
   "cell_type": "code",
   "execution_count": null,
   "id": "330a8f1f",
   "metadata": {},
   "outputs": [],
   "source": []
  },
  {
   "cell_type": "code",
   "execution_count": 16,
   "id": "6f819257",
   "metadata": {},
   "outputs": [
    {
     "name": "stdout",
     "output_type": "stream",
     "text": [
      "3rd row:\n",
      " [[ 9 10 11 12]]\n"
     ]
    }
   ],
   "source": [
    "print(\"3rd row:\\n\",arr[2:3, :])"
   ]
  },
  {
   "cell_type": "code",
   "execution_count": 20,
   "id": "a988ca08",
   "metadata": {},
   "outputs": [
    {
     "name": "stdout",
     "output_type": "stream",
     "text": [
      "[[ 5  6]\n",
      " [ 9 10]]\n"
     ]
    }
   ],
   "source": [
    "print(arr[1:3, 0:2])"
   ]
  },
  {
   "cell_type": "markdown",
   "id": "2d68a687",
   "metadata": {},
   "source": [
    "Create an array arr = np.arange(10, 31).reshape(7, 3)\n",
    "   - The element at position (2, 1)\n",
    "   \n",
    "   - The last 3 elements of the second column:\n",
    "    \n",
    "   - The elements in the first and third columns of the last two rows"
   ]
  },
  {
   "cell_type": "code",
   "execution_count": 36,
   "id": "ef7d8ea3",
   "metadata": {},
   "outputs": [
    {
     "name": "stdout",
     "output_type": "stream",
     "text": [
      "[[10 11 12]\n",
      " [13 14 15]\n",
      " [16 17 18]\n",
      " [19 20 21]\n",
      " [22 23 24]\n",
      " [25 26 27]\n",
      " [28 29 30]]\n"
     ]
    }
   ],
   "source": [
    "arr = np.arange(10, 31).reshape(7, 3)\n",
    "print(arr)"
   ]
  },
  {
   "cell_type": "code",
   "execution_count": 37,
   "id": "5e265a93",
   "metadata": {},
   "outputs": [
    {
     "name": "stdout",
     "output_type": "stream",
     "text": [
      "17\n"
     ]
    }
   ],
   "source": [
    "print(arr[2][1])"
   ]
  },
  {
   "cell_type": "code",
   "execution_count": 40,
   "id": "73bb640a",
   "metadata": {},
   "outputs": [
    {
     "name": "stdout",
     "output_type": "stream",
     "text": [
      "[23 26 29]\n"
     ]
    }
   ],
   "source": [
    "print(arr[-3:, 1])"
   ]
  },
  {
   "cell_type": "markdown",
   "id": "e20be760",
   "metadata": {},
   "source": [
    "Slice a 1D array to retrieve every third element starting from index 0.\n"
   ]
  },
  {
   "cell_type": "code",
   "execution_count": 46,
   "id": "6f52b30e",
   "metadata": {},
   "outputs": [
    {
     "name": "stdout",
     "output_type": "stream",
     "text": [
      "[1 2 3 4 5 6 7 8 9]\n",
      "[3 6 9]\n"
     ]
    }
   ],
   "source": [
    "arr = np.arange(1,10)\n",
    "print(arr)\n",
    "print(arr[2::3])"
   ]
  },
  {
   "cell_type": "markdown",
   "id": "8e7061df",
   "metadata": {},
   "source": [
    "Create a 1D NumPy array of integers from 1 to 20 \n",
    "\n",
    "   - Calculate the square of each element\n",
    "  \n",
    "   - Subtract 5 from each element"
   ]
  },
  {
   "cell_type": "code",
   "execution_count": null,
   "id": "28f09b83",
   "metadata": {},
   "outputs": [
    {
     "name": "stdout",
     "output_type": "stream",
     "text": [
      "[  1   4   9  16  25  36  49  64  81 100 121 144 169 196 225 256 289 324\n",
      " 361 400]\n",
      "[  1   4   9  16  25  36  49  64  81 100 121 144 169 196 225 256 289 324\n",
      " 361 400]\n"
     ]
    }
   ],
   "source": [
    "arr1 = np.arange(1,21)\n",
    "sqaure = np.square(arr1)\n",
    "print(sqaure)\n"
   ]
  },
  {
   "cell_type": "code",
   "execution_count": 53,
   "id": "cba5a0f5",
   "metadata": {},
   "outputs": [
    {
     "name": "stdout",
     "output_type": "stream",
     "text": [
      "[-4 -3 -2 -1  0  1  2  3  4  5  6  7  8  9 10 11 12 13 14 15]\n"
     ]
    }
   ],
   "source": [
    "print(arr1 - 5)"
   ]
  },
  {
   "cell_type": "markdown",
   "id": "da8da7d1",
   "metadata": {},
   "source": [
    "Given an array arr = np.array([2, 3, 4, 5])\n",
    "\n",
    "- The exponential of each element\n",
    "     \n",
    "- The logarithm base 2 of each element"
   ]
  },
  {
   "cell_type": "code",
   "execution_count": 54,
   "id": "9a15fdb9",
   "metadata": {},
   "outputs": [
    {
     "name": "stdout",
     "output_type": "stream",
     "text": [
      "[  7.3890561   20.08553692  54.59815003 148.4131591 ]\n",
      "[1.         1.5849625  2.         2.32192809]\n"
     ]
    }
   ],
   "source": [
    "arr = np.array([2, 3, 4, 5])\n",
    "print(np.exp(arr))\n",
    "print(np.log2(arr))"
   ]
  },
  {
   "cell_type": "code",
   "execution_count": null,
   "id": "193aa62e",
   "metadata": {},
   "outputs": [],
   "source": []
  }
 ],
 "metadata": {
  "kernelspec": {
   "display_name": "Python 3",
   "language": "python",
   "name": "python3"
  },
  "language_info": {
   "codemirror_mode": {
    "name": "ipython",
    "version": 3
   },
   "file_extension": ".py",
   "mimetype": "text/x-python",
   "name": "python",
   "nbconvert_exporter": "python",
   "pygments_lexer": "ipython3",
   "version": "3.13.5"
  }
 },
 "nbformat": 4,
 "nbformat_minor": 5
}
