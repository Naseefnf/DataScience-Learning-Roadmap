{
 "cells": [
  {
   "cell_type": "markdown",
   "id": "cb6d9729",
   "metadata": {},
   "source": [
    "# Stacking, splitting, copying arrays. Functions: hstack(), vstack(), split(), copy()."
   ]
  },
  {
   "cell_type": "markdown",
   "id": "b0fd27fa",
   "metadata": {},
   "source": [
    "### stacking"
   ]
  },
  {
   "cell_type": "code",
   "execution_count": 1,
   "id": "6a0a5966",
   "metadata": {},
   "outputs": [],
   "source": [
    "import numpy as np"
   ]
  },
  {
   "cell_type": "code",
   "execution_count": 4,
   "id": "03a7a73e",
   "metadata": {},
   "outputs": [
    {
     "name": "stdout",
     "output_type": "stream",
     "text": [
      "[[1 2]\n",
      " [3 4]\n",
      " [5 6]]\n",
      "\n",
      "[[ 7  8]\n",
      " [ 9 10]\n",
      " [11 12]]\n"
     ]
    }
   ],
   "source": [
    "a = np.arange(1,7).reshape(3,2)\n",
    "b = np.arange(7,13).reshape(3,2)\n",
    "print(a)\n",
    "print()\n",
    "print(b) "
   ]
  },
  {
   "cell_type": "code",
   "execution_count": 41,
   "id": "767133e8",
   "metadata": {},
   "outputs": [
    {
     "name": "stdout",
     "output_type": "stream",
     "text": [
      "[[[ 1  2]\n",
      "  [ 3  4]\n",
      "  [ 5  6]]\n",
      "\n",
      " [[ 7  8]\n",
      "  [ 9 10]\n",
      "  [11 12]]]\n"
     ]
    }
   ],
   "source": [
    "print(np.stack((a,b)))\n"
   ]
  },
  {
   "cell_type": "code",
   "execution_count": 6,
   "id": "63576892",
   "metadata": {},
   "outputs": [
    {
     "name": "stdout",
     "output_type": "stream",
     "text": [
      "[[ 1  2]\n",
      " [ 3  4]\n",
      " [ 5  6]\n",
      " [ 7  8]\n",
      " [ 9 10]\n",
      " [11 12]]\n"
     ]
    }
   ],
   "source": [
    "print(np.vstack((a,b)))"
   ]
  },
  {
   "cell_type": "code",
   "execution_count": null,
   "id": "ca912a43",
   "metadata": {},
   "outputs": [
    {
     "name": "stdout",
     "output_type": "stream",
     "text": [
      "[[ 1  2  7  8]\n",
      " [ 3  4  9 10]\n",
      " [ 5  6 11 12]]\n",
      "(3, 4)\n"
     ]
    }
   ],
   "source": [
    "print(np.hstack((a,b)))"
   ]
  },
  {
   "cell_type": "code",
   "execution_count": 43,
   "id": "4f4c9f2f",
   "metadata": {},
   "outputs": [
    {
     "name": "stdout",
     "output_type": "stream",
     "text": [
      "[[[ 1  2]\n",
      "  [ 7  8]]\n",
      "\n",
      " [[ 3  4]\n",
      "  [ 9 10]]\n",
      "\n",
      " [[ 5  6]\n",
      "  [11 12]]]\n",
      "(3, 2, 2)\n"
     ]
    }
   ],
   "source": [
    "stack1 = np.stack((a,b), axis=1)\n",
    "print(stack1)\n",
    "print(stack1.shape)"
   ]
  },
  {
   "cell_type": "markdown",
   "id": "54c342d6",
   "metadata": {},
   "source": [
    "#### split()"
   ]
  },
  {
   "cell_type": "code",
   "execution_count": 18,
   "id": "d4523173",
   "metadata": {},
   "outputs": [
    {
     "name": "stdout",
     "output_type": "stream",
     "text": [
      "[1 2 3 4 5 6]\n"
     ]
    }
   ],
   "source": [
    "a1 = np.arange(1,7)\n",
    "print(a1)"
   ]
  },
  {
   "cell_type": "code",
   "execution_count": 27,
   "id": "43004bd6",
   "metadata": {},
   "outputs": [
    {
     "name": "stdout",
     "output_type": "stream",
     "text": [
      "[array([[1, 2]]), array([[3, 4]]), array([[5, 6]])]\n"
     ]
    }
   ],
   "source": [
    "split_a1 = np.split(a1, 3)\n",
    "print(split_a1)"
   ]
  },
  {
   "cell_type": "code",
   "execution_count": 25,
   "id": "4903cd26",
   "metadata": {},
   "outputs": [
    {
     "name": "stdout",
     "output_type": "stream",
     "text": [
      "[array([[1, 2],\n",
      "       [3, 4]]), array([[5, 6]])]\n"
     ]
    }
   ],
   "source": [
    "a1 = a1.reshape(3,2)\n",
    "split_a1 = np.array_split(a1, 2)\n",
    "print(split_a1)"
   ]
  },
  {
   "cell_type": "markdown",
   "id": "2d270246",
   "metadata": {},
   "source": [
    "#### view()"
   ]
  },
  {
   "cell_type": "code",
   "execution_count": 30,
   "id": "8ad3d968",
   "metadata": {},
   "outputs": [
    {
     "name": "stdout",
     "output_type": "stream",
     "text": [
      "[1 2 3 4 5 6 7 8 9]\n",
      "[1 2 3 4 5 6 7 8 9]\n",
      "[99  2  3  4  5  6  7  8  9]\n"
     ]
    }
   ],
   "source": [
    "np1 = np.arange(1,10)\n",
    "np2 = np1.view()\n",
    "print(np1)\n",
    "print(np2)\n",
    "np1[0]=99\n",
    "print(np2)"
   ]
  },
  {
   "cell_type": "markdown",
   "id": "d36e3ac3",
   "metadata": {},
   "source": [
    "#### view()"
   ]
  },
  {
   "cell_type": "code",
   "execution_count": 31,
   "id": "98fbe29b",
   "metadata": {},
   "outputs": [
    {
     "name": "stdout",
     "output_type": "stream",
     "text": [
      "[1 2 3 4 5 6]\n",
      "[1 2 3 4 5 6]\n"
     ]
    }
   ],
   "source": [
    "np1 = np.array([1,2,3,4,5,6])\n",
    "np2 = np1.copy()\n",
    "print(np1)\n",
    "print(np2)"
   ]
  },
  {
   "cell_type": "code",
   "execution_count": 32,
   "id": "8bdb41b6",
   "metadata": {},
   "outputs": [
    {
     "name": "stdout",
     "output_type": "stream",
     "text": [
      "[1 2 3 4 5 6]\n"
     ]
    }
   ],
   "source": [
    "np1[0] = 44\n",
    "print(np2)"
   ]
  },
  {
   "cell_type": "markdown",
   "id": "5de8ed3f",
   "metadata": {},
   "source": [
    "### Stack two arrays vertically and horizontally."
   ]
  },
  {
   "cell_type": "code",
   "execution_count": 33,
   "id": "a66bf4ac",
   "metadata": {},
   "outputs": [
    {
     "name": "stdout",
     "output_type": "stream",
     "text": [
      "[[1 2 3 4]\n",
      " [5 6 7 8]]\n",
      "[1 2 3 4 5 6 7 8]\n"
     ]
    }
   ],
   "source": [
    "a1 = np.array([1,2,3,4])\n",
    "a2 = np.array([5,6,7,8])\n",
    "vertical = np.vstack((a1,a2))\n",
    "horiz = np.hstack((a1,a2))\n",
    "print(vertical)\n",
    "print(horiz)"
   ]
  },
  {
   "cell_type": "markdown",
   "id": "17dc4628",
   "metadata": {},
   "source": [
    "### Split a 1D array into equal parts."
   ]
  },
  {
   "cell_type": "code",
   "execution_count": 34,
   "id": "fec2a6df",
   "metadata": {},
   "outputs": [
    {
     "name": "stdout",
     "output_type": "stream",
     "text": [
      "[array([1, 2, 3, 4]), array([5, 6, 7, 8])]\n"
     ]
    }
   ],
   "source": [
    "d1 = np.array([1,2,3,4,5,6,7,8])\n",
    "split_d1 = np.split(d1, 2)\n",
    "print(split_d1)"
   ]
  },
  {
   "cell_type": "markdown",
   "id": "e113f84b",
   "metadata": {},
   "source": [
    "### Shallow Copy vs Deep Copy\n",
    "\n",
    "- **Shallow Copy**: Creates a new object, but references (points to) the original elements.  \n",
    "  → Changes inside nested objects will reflect in both copies.  \n",
    "\n",
    "- **Deep Copy**: Creates a completely independent copy of the object and all nested objects.  \n",
    "  → Changes in one will NOT affect the other.\n"
   ]
  },
  {
   "cell_type": "code",
   "execution_count": 53,
   "id": "ec0d6918",
   "metadata": {},
   "outputs": [
    {
     "name": "stdout",
     "output_type": "stream",
     "text": [
      "[ 1  2  3  4  5  6  7  8  9 10]\n",
      "[  1   2 100   4   5   6   7   8   9  10]\n",
      "[  1   2 100   4   5   6   7   8   9  10]\n"
     ]
    }
   ],
   "source": [
    "d2 = np.arange(1,11)\n",
    "print(d2)\n",
    "d3 = d2.view()  #shallow copy\n",
    "d3[2] = 100\n",
    "print(d3)\n",
    "print(d2)"
   ]
  },
  {
   "cell_type": "code",
   "execution_count": 55,
   "id": "49e54792",
   "metadata": {},
   "outputs": [
    {
     "name": "stdout",
     "output_type": "stream",
     "text": [
      "[[  1   2]\n",
      " [  3   4]\n",
      " [  5 100]\n",
      " [  7   8]\n",
      " [  9  10]]\n",
      "[[ 1  2]\n",
      " [ 3  4]\n",
      " [ 5  6]\n",
      " [ 7  8]\n",
      " [ 9 10]]\n"
     ]
    }
   ],
   "source": [
    "d2 = np.arange(1,11).reshape((5,2))\n",
    "d3 = d2.copy()  # deep copy\n",
    "d3[2][1] = 100\n",
    "print(d3) \n",
    "print(d2)"
   ]
  },
  {
   "cell_type": "markdown",
   "id": "4ccf0067",
   "metadata": {},
   "source": [
    "#### Concatenate two arrays [1,2,3] and [4,5,6]."
   ]
  },
  {
   "cell_type": "code",
   "execution_count": 57,
   "id": "984c5285",
   "metadata": {},
   "outputs": [
    {
     "name": "stdout",
     "output_type": "stream",
     "text": [
      "[1 2 3 4 5 6]\n"
     ]
    }
   ],
   "source": [
    "arr1 = np.array([1,2,3])\n",
    "arr2 = np.array([4,5,6])\n",
    "arr3 = np.concatenate((arr1,arr2))\n",
    "print(arr3)"
   ]
  },
  {
   "cell_type": "markdown",
   "id": "1b35baa4",
   "metadata": {},
   "source": [
    "#### Stack two 3×3 identity matrices vertically."
   ]
  },
  {
   "cell_type": "code",
   "execution_count": 62,
   "id": "a7007429",
   "metadata": {},
   "outputs": [
    {
     "name": "stdout",
     "output_type": "stream",
     "text": [
      "[[ 1  2  3]\n",
      " [ 4  5  6]\n",
      " [ 7  8  9]\n",
      " [10 11 12]\n",
      " [13 14 15]\n",
      " [16 17 18]]\n"
     ]
    }
   ],
   "source": [
    "arr1 = np.arange(1,10).reshape(3,3)\n",
    "arr2 = np.arange(10,19).reshape(3,3)\n",
    "arr3 = np.vstack((arr1,arr2))\n",
    "print(arr3)"
   ]
  },
  {
   "cell_type": "markdown",
   "id": "6f5993b5",
   "metadata": {},
   "source": [
    "#### Split an array of size 20 into 4 equal chunks.\n"
   ]
  },
  {
   "cell_type": "code",
   "execution_count": 64,
   "id": "60084798",
   "metadata": {},
   "outputs": [
    {
     "name": "stdout",
     "output_type": "stream",
     "text": [
      "[18  8  4 14  8  6 17 12 10  8 12  6 19  1  7 16 18  9 10  8]\n"
     ]
    }
   ],
   "source": [
    "arr1 = np.random.randint(1,20,20)\n",
    "print(arr1)"
   ]
  },
  {
   "cell_type": "code",
   "execution_count": 67,
   "id": "bbbe6f3a",
   "metadata": {},
   "outputs": [
    {
     "name": "stdout",
     "output_type": "stream",
     "text": [
      "[array([18,  8,  4, 14,  8,  6, 17, 12, 10,  8], dtype=int32), array([12,  6, 19,  1,  7, 16, 18,  9, 10,  8], dtype=int32)]\n"
     ]
    }
   ],
   "source": [
    "print(np.split(arr1,2))"
   ]
  },
  {
   "cell_type": "markdown",
   "id": "300bd56d",
   "metadata": {},
   "source": [
    "#### Show with code how modifying a .view() changes the original array but .copy() does not"
   ]
  },
  {
   "cell_type": "code",
   "execution_count": null,
   "id": "4c0a7f7f",
   "metadata": {},
   "outputs": [
    {
     "name": "stdout",
     "output_type": "stream",
     "text": [
      "[  1   2   3 100   5]\n",
      "[  1   2   3 100   5]\n"
     ]
    }
   ],
   "source": [
    "a1 = np.array([1,2,3,4,5])\n",
    "a2 = a1.view()\n",
    "a2[3] = 100\n",
    "print(a2)\n",
    "print(a1)   # affects both original and duplicate array"
   ]
  },
  {
   "cell_type": "code",
   "execution_count": null,
   "id": "4aab4f71",
   "metadata": {},
   "outputs": [
    {
     "name": "stdout",
     "output_type": "stream",
     "text": [
      "[  1   2   3 100   5]\n",
      "[1 2 3 4 5]\n"
     ]
    }
   ],
   "source": [
    "a1 = np.array([1,2,3,4,5])\n",
    "a2 = a1.copy()\n",
    "a2[3] = 100\n",
    "print(a2)\n",
    "print(a1)   # only affects copy"
   ]
  },
  {
   "cell_type": "markdown",
   "id": "5e77f882",
   "metadata": {},
   "source": [
    "#### Create two arrays of shape (2×3) and horizontally stack them into a (2×6) array."
   ]
  },
  {
   "cell_type": "code",
   "execution_count": 74,
   "id": "f9badc4d",
   "metadata": {},
   "outputs": [
    {
     "name": "stdout",
     "output_type": "stream",
     "text": [
      "[[ 1  2  3  7  8  9]\n",
      " [ 4  5  6 10 11 12]]\n",
      "(2, 6)\n"
     ]
    }
   ],
   "source": [
    "a = np.arange(1,7).reshape(2,3)\n",
    "b = np.arange(7,13).reshape(2,3)\n",
    "stacked = np.hstack((a,b))\n",
    "print(stacked)\n",
    "print(stacked.shape)"
   ]
  },
  {
   "cell_type": "code",
   "execution_count": 75,
   "id": "a32e375e",
   "metadata": {},
   "outputs": [
    {
     "name": "stdout",
     "output_type": "stream",
     "text": [
      "[[ 0.  1.  2.  3.]\n",
      " [ 4.  5.  6.  7.]\n",
      " [ 8.  9. 10. 11.]\n",
      " [12. 13. 14. 15.]]\n"
     ]
    }
   ],
   "source": [
    "import numpy as np\n",
    "x = np.arange(16.0).reshape(4, 4)\n",
    "print(x)"
   ]
  },
  {
   "cell_type": "code",
   "execution_count": 76,
   "id": "daa64510",
   "metadata": {},
   "outputs": [
    {
     "data": {
      "text/plain": [
       "[array([[ 0.,  1.,  2.],\n",
       "        [ 4.,  5.,  6.],\n",
       "        [ 8.,  9., 10.],\n",
       "        [12., 13., 14.]]),\n",
       " array([[ 3.],\n",
       "        [ 7.],\n",
       "        [11.],\n",
       "        [15.]]),\n",
       " array([], shape=(4, 0), dtype=float64)]"
      ]
     },
     "execution_count": 76,
     "metadata": {},
     "output_type": "execute_result"
    }
   ],
   "source": [
    "\n",
    "np.hsplit(x, np.array([3, 6]))"
   ]
  },
  {
   "cell_type": "code",
   "execution_count": null,
   "id": "c2a73c95",
   "metadata": {},
   "outputs": [],
   "source": []
  }
 ],
 "metadata": {
  "kernelspec": {
   "display_name": "Python 3",
   "language": "python",
   "name": "python3"
  },
  "language_info": {
   "codemirror_mode": {
    "name": "ipython",
    "version": 3
   },
   "file_extension": ".py",
   "mimetype": "text/x-python",
   "name": "python",
   "nbconvert_exporter": "python",
   "pygments_lexer": "ipython3",
   "version": "3.13.5"
  }
 },
 "nbformat": 4,
 "nbformat_minor": 5
}
